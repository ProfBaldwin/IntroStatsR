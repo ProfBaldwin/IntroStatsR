{
 "cells": [
  {
   "cell_type": "markdown",
   "metadata": {},
   "source": [
    "# Tables and Charts"
   ]
  },
  {
   "cell_type": "markdown",
   "metadata": {},
   "source": [
    "## Objectives\n",
    "- Create and interpret frequency tables.\n",
    "- Create and interpret bar charts, histograms, and pie charts."
   ]
  },
  {
   "cell_type": "markdown",
   "metadata": {},
   "source": [
    "## Frequency\n",
    "Once you have a set of data, you will need to organize it so that you can analyze how frequently each datum occurs in the set. The **frequency** of a value is the number of times the value occurs in the data.\n",
    "\n",
    "For example, imagine twenty students in an organic chemistry class obtain the following grades:\n",
    "\n",
    "\n",
    "<center>C, A, F, B, F, C, A, A, B, B, C, C, B, A, D, A, B, B, B, C</center>\n",
    "<br/>\n",
    "\n",
    "By counting the number of times each value occurs, we can construct a **frequency table** for the data, shown in {numref}`grade-frequency-table`.\n",
    "\n",
    "```{list-table} A table showing the frequency with which each grade is obtained in an organic chemistry class. The frequency of a value is the number of times the value occurs in a data set.\n",
    ":header-rows: 1\n",
    ":name: grade-frequency-table\n",
    "* - Grade\n",
    "  - Frequency\n",
    "* - A\n",
    "  - 5\n",
    "* - B\n",
    "  - 7\n",
    "* - C\n",
    "  - 5\n",
    "* - D\n",
    "  - 1\n",
    "* - F\n",
    "  - 2\n",
    "* - \n",
    "  - **Total = 20**\n",
    "```\n",
    "          \n",
    "By inspecting the table, we see, for example, that 7 students received a B in Organic Chemistry.\n",
    "\n",
    "It is sometimes more useful to know how many times a particular value occurs in comparison to the total number of values in the data. (A surgeon who has performed 99 surgeries out of 100 successfully may be a good surgeon. A surgeon who has performed 99 surgeries out of 1,000 successfully may not be a good surgeon.)  A **relative frequency** is the ratio (fraction or proportion) of the number of times a value of the data occurs to the total number of outcomes. To find the relative frequencies, divide each frequency by the total number values. Relative frequencies can be written as fractions, percents, or decimals.\n",
    "\n",
    "For the example of the twenty-student organic chemistry class above, the **relative frequency table** is provided in {numref}`grade-rf-table`.\n",
    "\n",
    "```{list-table} A table showing the frequency and relative frequency with which each grade is obtained in an organic chemistry class. The relative frequency for each value is obtained by dividing the frequency of the value by the total size of the data set.\n",
    ":header-rows: 1\n",
    ":name: grade-rf-table\n",
    "* - Grade\n",
    "  - Frequency\n",
    "  - Relative Frequency\n",
    "* - A\n",
    "  - 5\n",
    "  - $\\dfrac{5}{20} = 0.25$\n",
    "* - B\n",
    "  - 7\n",
    "  - $\\dfrac{7}{20} = 0.35$\n",
    "* - C\n",
    "  - 5\n",
    "  - $\\dfrac{5}{20} = 0.25$\n",
    "* - D\n",
    "  - 1\n",
    "  - $\\dfrac{1}{20} = 0.05$\n",
    "* - F\n",
    "  - 2\n",
    "  - $\\dfrac{2}{20} = 0.10$\n",
    "* - \n",
    "  - **Total = 20**\n",
    "  - **Total = 1.00**\n",
    "```\n",
    "          \n",
    "Note that the sum of the relative frequencies should always add up to 1.00 or 100% since the table accounts for all (that is, 100%) of the data values.\n",
    "          \n",
    "We could also **group** data and calculate the frequency and relative frequency for each group. For example, {numref}`soccer-height-table` represents the heights, in inches, of a sample of 150 male semiprofessional soccer players.\n",
    "\n",
    "```{list-table} A table showing the frequency and relative frequency of soccer player heights.\n",
    ":header-rows: 1\n",
    ":name: soccer-height-table\n",
    "* - Height (Inches)\n",
    "  - Frequency\n",
    "  - Relative Frequency\n",
    "* - 60-62\n",
    "  - 8\n",
    "  - $\\dfrac{8}{150} = 0.0533$\n",
    "* - 62-64\n",
    "  - 4\n",
    "  - $\\dfrac{4}{150} = 0.0267$\n",
    "* - 64-66\n",
    "  - 23\n",
    "  - $\\dfrac{23}{150} = 0.1533$\n",
    "* - 66-68\n",
    "  - 60\n",
    "  - $\\dfrac{60}{150} = 0.4000$\n",
    "* - 68-70\n",
    "  - 25\n",
    "  - $\\dfrac{25}{150} = 0.1667$\n",
    "* - 70-72\n",
    "  - 18\n",
    "  - $\\dfrac{18}{150} = 0.1200$\n",
    "* - 72-74\n",
    "  - 10\n",
    "  - $\\dfrac{10}{150} = 0.0667$\n",
    "* - 74-76\n",
    "  - 2\n",
    "  - $\\dfrac{2}{150} = 0.0133$\n",
    "* - \n",
    "  - **Total = 150**\n",
    "  - **Total = 1.00**\n",
    "```\n",
    "\n",
    "So, for example, a soccer player in the sample that is 64.5 inches tall will be counted in the group of athletes with heights between 64-66 inches."
   ]
  },
  {
   "cell_type": "markdown",
   "metadata": {},
   "source": [
    "## Bar Charts\n",
    "Once you have organized your data, it can be useful to present the data graphically. For qualitative or categorical data, **Bar charts** or **bar graphs** can be used to visualize the frequency or relative frequency of each category. In a bar chart, each category has a rectangular bar associated with it, where the height of the bar (or the width of the bar, for a horizontal bar chart) represents the frequency or relative frequency of the category. The bars in a bar chart are separated by a small space or gap.\n",
    "\n",
    "We can use R to construct a bar chart for us by specifying both the categories and their frequencies or relative frequencies. We can use the <code>barplot</code> function:\n",
    "\n",
    "```R\n",
    "barplot(height, names)\n",
    "```\n",
    "\n",
    "Here, <code>height</code> is a list of the heights (the frequencies or relative frequencies) of the bars, and <code>names</code> is the corresponding list of categories that will be used to label the bars. The order of the <code>height</code> list must correspond to the order of the <code>names</code> list so that the bar with the first height is labeled with the first name, the bar with the second height is labeled with the second name, etc."
   ]
  },
  {
   "cell_type": "markdown",
   "metadata": {},
   "source": [
    "***"
   ]
  },
  {
   "cell_type": "markdown",
   "metadata": {},
   "source": [
    "\n",
    "### Example 1.5.1\n",
    "The population in Park City is made up of children, working-age adults, and retirees. {numref}`park-city-population-table` shows the three age groups, the number of people in the city in each age group, and the proportion of people in each age group. Construct a bar graph showing the proportions.\n",
    "\n",
    "```{list-table} Population in Park City by age group.\n",
    ":header-rows: 1\n",
    ":name: park-city-population-table\n",
    "* - Age Groups\n",
    "  - Number of People\n",
    "  - Proportion of Population\n",
    "* - Children\n",
    "  - 67,059\n",
    "  - 19.11%\n",
    "* - Working-age Adults\n",
    "  - 152,198\n",
    "  - 43.37%\n",
    "* - Retirees\n",
    "  - 131,662\n",
    "  - 37.52%\n",
    "```\n",
    "\n",
    "```{note}\n",
    "{numref}`park-city-population-table` is a relative frequency table even though the table uses different labels for the frequency and relative frequency columns than we saw in the other examples. The frequency column is labeled \"Number of People\". The relative frequency column is labeled \"Proportion of Population\", and relative frequencies are given in percents instead of fractions or decimals.\n",
    "```\n",
    "\n",
    "#### Solution\n",
    "In this example, we have three categories of age groups (\"Children\", \"Working-age adults\", \"Retirees\"). We are given the frequency of each age group in the \"Number of people\" column and the relative frequency in the \"Proportion of the population\" column. We will use R to construct a bar graph of the relative frequencies of each category."
   ]
  },
  {
   "cell_type": "code",
   "execution_count": 4,
   "metadata": {
    "collapsed": true,
    "jupyter": {
     "outputs_hidden": true
    },
    "tags": [
     "remove-output"
    ]
   },
   "outputs": [
    {
     "data": {
      "image/png": "[encoded data removed]",
      "text/plain": [
       "plot without title"
      ]
     },
     "metadata": {
      "filenames": {
       "image/png": "/home/taylor/Dropbox/GitHub/IntroStatsR/_build/jupyter_execute/Ch1 Sampling and Data/1.4 Tables and Charts_6_0.png"
      },
      "image/png": {
       "height": 420,
       "width": 420
      },
      "text/plain": {
       "height": 420,
       "width": 420
      }
     },
     "output_type": "display_data"
    }
   ],
   "source": [
    "proportions = c(19, 43, 38)\n",
    "age_groups = c(\"Children\", \"Working-age Adults\", \"Retirees\")\n",
    "\n",
    "barplot(height = proportions, names = age_groups)"
   ]
  },
  {
   "cell_type": "code",
   "execution_count": 10,
   "metadata": {
    "jupyter": {
     "source_hidden": true
    },
    "tags": [
     "remove-cell"
    ]
   },
   "outputs": [
    {
     "data": {
      "text/html": [
       "<strong>png:</strong> 2"
      ],
      "text/latex": [
       "\\textbf{png:} 2"
      ],
      "text/markdown": [
       "**png:** 2"
      ],
      "text/plain": [
       "png \n",
       "  2 "
      ]
     },
     "metadata": {},
     "output_type": "display_data"
    }
   ],
   "source": [
    "png(\"park_city_barchart.png\", width = 1000, height = 500)\n",
    "\n",
    "proportions = c(19, 43, 38)\n",
    "age_groups = c(\"Children\", \"Working-age Adults\", \"Retirees\")\n",
    "\n",
    "barplot(height = proportions, names = age_groups, cex.names = 2, cex.axis = 2)\n",
    "\n",
    "dev.off()"
   ]
  },
  {
   "cell_type": "markdown",
   "metadata": {},
   "source": [
    "```{figure} park_city_barchart.png\n",
    "---\n",
    "width: 100%\n",
    "alt: A bar chart of the proportion of people in each age group in Park City.\n",
    "name: park-city-barchart\n",
    "---\n",
    "A bar chart illustrating the proportion of each age group relative to the population of Park City.\n",
    "```"
   ]
  },
  {
   "cell_type": "markdown",
   "metadata": {},
   "source": [
    "\n",
    "\n",
    "\n",
    "`````{warning}\n",
    "Note that the labels \"Children\", \"Working-age Adults\", and \"Retirees\" in the code block in this example are each in double quotes. Double quotes surrounding text tells R that the text is just a label, not instructions the computer should follow. If you don't include the double quotes, R will return an error. When creating a list of <code>names</code> for a bar plot:\n",
    "\n",
    "- Make sure *each* label in the list is contained within double quotes.\n",
    "- Make sure *only* the label is in the double quotes. In particular, the comma separating the labels should be outside the double quotes.\n",
    "\n",
    "For the example above, here are ways to define the labels for a bar plot correctly and incorrectly in R.\n",
    "\n",
    "````{admonition} Incorrect\n",
    ":class: error\n",
    "```\n",
    "age_groups = c(\"Children, Working-age Adults, Retirees\")\n",
    "```\n",
    "**Why?**<br/>\n",
    "All labels are between the same set of double quotes. Each label should have its own set of double quotes.\n",
    "````\n",
    "\n",
    "\n",
    "````{admonition} Incorrect\n",
    ":class: error\n",
    "```\n",
    "age_groups = c(\"Children,\" \"Working-age Adults,\" \"Retirees\")\n",
    "```\n",
    "**Why?**<br/>\n",
    "The commas separating the labels are inside the double quotes, which tells the computer the commas are part of the labels. The commas should be outside the double quotes.\n",
    "````\n",
    "\n",
    "\n",
    "\n",
    "````{admonition} Correct\n",
    "```\n",
    "age_groups = c(\"Children\", \"Working-age Adults\", \"Retirees\")\n",
    "```\n",
    "**Why?**<br/>\n",
    "Each label has its own set of double quotes, and only the labels are inside the double quotes. The commas are outside the double quotes.\n",
    "````\n",
    "\n",
    "`````"
   ]
  },
  {
   "cell_type": "markdown",
   "metadata": {},
   "source": [
    "***"
   ]
  },
  {
   "cell_type": "markdown",
   "metadata": {},
   "source": [
    "\n",
    "### Example 1.5.2\n",
    "The columns in the table below contain: the race or ethnicity of students in U.S. Public Schools for the class of 2011, percentages for the Advanced Placement examine population for that class, and percentages for the overall student population. Create a bar graph with the student race or ethnicity (qualitative data) on the x-axis, and the Advanced Placement examinee population percentages on the y-axis.\n",
    "\n",
    "```{list-table} Race/Ethnicity of AP Examinee Population vs. Overall Student Population. Note a key is provided which assigns a letter to each race/ethnicity. This makes it easier to reference the long race/ethnicity names.\n",
    ":header-rows: 1\n",
    ":name: ap-examinee-table\n",
    "* - Race/Ethnicity\n",
    "  - AP Examinee Population\n",
    "  - Overall Student Population\n",
    "* - A = Asian, Asian American, or Pacific Islander\n",
    "  - 10.3%\n",
    "  - 5.7%\n",
    "* - B = Black or African American\n",
    "  - 9.0%\n",
    "  - 14.7%\n",
    "* - C = Hispanic or Latino\n",
    "  - 17.0%\n",
    "  - 17.6%\n",
    "* - D = American Indian or Alaskan Native\n",
    "  - 0.6%\n",
    "  - 1.1%\n",
    "* - E = White\n",
    "  - 57.1%\n",
    "  - 59.2%\n",
    "* - F = Not Reported/Other\n",
    "  - 6.0%\n",
    "  - 1.7%\n",
    "```\n",
    "\n",
    "```{note}\n",
    "{numref}`ap-examinee-table` does not include a frequency column. Instead, it provides the relative frequencies (as percents) of two different populations: the AP examinee population and the overall student population.\n",
    "```\n",
    "\n",
    "#### Solution\n",
    "This table provides us with the relative frequecy of each ethnicity in two different populations: the population of all AP examinees and the overall student population. In this case, we will only use the data in the \"AP Examinee Population\" column to construct our bar chart; we will not use the \"Overall Student Population\" data in this example."
   ]
  },
  {
   "cell_type": "code",
   "execution_count": 4,
   "metadata": {
    "collapsed": true,
    "jupyter": {
     "outputs_hidden": true
    },
    "tags": [
     "remove-output"
    ]
   },
   "outputs": [
    {
     "data": {
      "image/png": "[encoded data removed]",
      "text/plain": [
       "plot without title"
      ]
     },
     "metadata": {
      "filenames": {
       "image/png": "/home/taylor/Dropbox/GitHub/IntroStatsR/_build/jupyter_execute/Ch1 Sampling and Data/1.4 Tables and Charts_12_0.png"
      },
      "image/png": {
       "height": 420,
       "width": 420
      },
      "text/plain": {
       "height": 420,
       "width": 420
      }
     },
     "output_type": "display_data"
    }
   ],
   "source": [
    "APproportion = c(10.3, 9.0, 17.0, 0.6, 57.1, 6.0)\n",
    "race = c(\"A\", \"B\", \"C\", \"D\", \"E\", \"F\")\n",
    "\n",
    "barplot(height = APproportion, names = race)"
   ]
  },
  {
   "cell_type": "code",
   "execution_count": 5,
   "metadata": {
    "jupyter": {
     "source_hidden": true
    },
    "tags": [
     "remove-cell"
    ]
   },
   "outputs": [
    {
     "data": {
      "text/html": [
       "<strong>png:</strong> 2"
      ],
      "text/latex": [
       "\\textbf{png:} 2"
      ],
      "text/markdown": [
       "**png:** 2"
      ],
      "text/plain": [
       "png \n",
       "  2 "
      ]
     },
     "metadata": {},
     "output_type": "display_data"
    }
   ],
   "source": [
    "png(\"ap_examinees_barchart.png\", width = 1000, height = 500)\n",
    "\n",
    "APproportion = c(10.3, 9.0, 17.0, 0.6, 57.1, 6.0)\n",
    "race = c(\"A\", \"B\", \"C\", \"D\", \"E\", \"F\")\n",
    "\n",
    "barplot(height = APproportion, names = race, cex.names = 2, cex.axis = 2)\n",
    "\n",
    "dev.off()"
   ]
  },
  {
   "cell_type": "markdown",
   "metadata": {},
   "source": [
    "```{figure} ap_examinees_barchart.png\n",
    "---\n",
    "width: 100%\n",
    "alt: A bar chart of the proportion of each race/ethnicity in the AP examinee population.\n",
    "name: ap-examinees-barchart\n",
    "---\n",
    "A bar chart illustrating the proportion of each race/ethnicity in the AP examinee population.\n",
    "```"
   ]
  },
  {
   "cell_type": "markdown",
   "metadata": {},
   "source": [
    "Because the names of the races/ethnicities are so long, there isn't enough room on the bar chart to use the actual names of the races/ethnicities as the bar labels. Instead, we use a key for the labels (\"A\" for \"Asian, Asian American, or Pacific Islander\", \"B\" for \"Black or African American\", \"C\" for \"Hispanic or Latino\", etc.)."
   ]
  },
  {
   "cell_type": "markdown",
   "metadata": {},
   "source": [
    "***"
   ]
  },
  {
   "cell_type": "markdown",
   "metadata": {},
   "source": [
    "## Pie Charts"
   ]
  },
  {
   "cell_type": "markdown",
   "metadata": {},
   "source": [
    "Qualitative data can also be visualized using a pie chart. In a **pie chart**, a circle is sliced (like a pie) so that the number of categories in the data is equal to the number of slices, and the size of each slice is proportional to the corresponding category's quantity.\n",
    "\n",
    "We can create a pie chart in R using the <code>pie</code> function:\n",
    "\n",
    "```R\n",
    "pie(x, labels)\n",
    "```\n",
    "Here, <code>x</code> is a list of quantities for each category, and <code>labels</code> is a list of labels for each category. The two lists must be in the same order.\n",
    "\n",
    "The <code>x</code> and <code>labels</code> variables in the <code>pie</code> function are equivalent respectively to the <code>height</code> and <code>names</code> variables in the <code>barplot</code> function. \n",
    "\n",
    "Let's revisit the example above of the population of Park City, but this time construct a pie chart of the data."
   ]
  },
  {
   "cell_type": "markdown",
   "metadata": {},
   "source": [
    "***"
   ]
  },
  {
   "cell_type": "markdown",
   "metadata": {},
   "source": [
    "### Example 1.5.3\n",
    "The population in Park City is made up of children, working-age adults, and retirees. {numref}`park-city-population-table-pie` shows the three age groups, the number of people in the city in each age group, and the proportion of people in each age group. Construct a bar graph showing the proportions.\n",
    "\n",
    "```{list-table} Population in Park City by age group.\n",
    ":header-rows: 1\n",
    ":name: park-city-population-table-pie\n",
    "* - Age Groups\n",
    "  - Number of People\n",
    "  - Proportion of Population\n",
    "* - Children\n",
    "  - 67,059\n",
    "  - 19.11%\n",
    "* - Working-age Adults\n",
    "  - 152,198\n",
    "  - 43.37%\n",
    "* - Retirees\n",
    "  - 131,662\n",
    "  - 37.52%\n",
    "```\n",
    "\n",
    "\n",
    "#### Solution\n",
    "We use R to construct a pie chart."
   ]
  },
  {
   "cell_type": "code",
   "execution_count": 6,
   "metadata": {
    "collapsed": true,
    "jupyter": {
     "outputs_hidden": true
    },
    "tags": [
     "remove-output"
    ]
   },
   "outputs": [
    {
     "data": {
      "image/png": "[encoded data removed]",
      "text/plain": [
       "plot without title"
      ]
     },
     "metadata": {
      "filenames": {
       "image/png": "/home/taylor/Dropbox/GitHub/IntroStatsR/_build/jupyter_execute/Ch1 Sampling and Data/1.4 Tables and Charts_21_0.png"
      },
      "image/png": {
       "height": 420,
       "width": 420
      },
      "text/plain": {
       "height": 420,
       "width": 420
      }
     },
     "output_type": "display_data"
    }
   ],
   "source": [
    "proportions = c(19, 43, 38)\n",
    "age_groups = c(\"Children\", \"Working-age Adults\", \"Retirees\")\n",
    "\n",
    "pie(x = proportions, labels = age_groups)"
   ]
  },
  {
   "cell_type": "code",
   "execution_count": 23,
   "metadata": {
    "tags": [
     "remove-cell"
    ]
   },
   "outputs": [
    {
     "data": {
      "text/html": [
       "<strong>png:</strong> 2"
      ],
      "text/latex": [
       "\\textbf{png:} 2"
      ],
      "text/markdown": [
       "**png:** 2"
      ],
      "text/plain": [
       "png \n",
       "  2 "
      ]
     },
     "metadata": {},
     "output_type": "display_data"
    }
   ],
   "source": [
    "png(\"park_city_piechart.png\", width = 1000, height = 1000)\n",
    "\n",
    "par(mar = c(2, 0, 0, 0))\n",
    "\n",
    "proportions = c(19, 43, 38)\n",
    "age_groups = c(\"Children\", \"Working-age\\nAdults\", \"Retirees\")\n",
    "\n",
    "pie(x = proportions, labels = age_groups, cex = 2.5)\n",
    "\n",
    "dev.off()"
   ]
  },
  {
   "cell_type": "markdown",
   "metadata": {},
   "source": [
    "```{figure} park_city_piechart.png\n",
    "---\n",
    "width: 80%\n",
    "alt: A pie chart of the proportion of people in each age group in Park City.\n",
    "name: park-city-piechart\n",
    "---\n",
    "A pie chart illustrating the proportion of each age group relative to the population of Park City.\n",
    "```"
   ]
  },
  {
   "cell_type": "markdown",
   "metadata": {},
   "source": [
    "***"
   ]
  },
  {
   "cell_type": "markdown",
   "metadata": {},
   "source": [
    "Compare the bar chart in <a href=\"#Example-5.1\">example 5.1</a> with the pie chart in <a href=\"#Example-5.3\">example 5.3</a>. Which do you think is easier to read? Notice that it is a little difficult to decide if the \"working-age adults\" category or the \"retirees\" category is larger with the pie chart, but it is immediately obvious which category is larger using the bar chart. This isn't just a quirk with this data: bar charts tend to be easier to read than pie charts.\n",
    "\n",
    "As another example, consider the pie charts and bar charts below. Notice how hard it is to compare the sizes of the categories in the pie charts; notice how much easier it is to compare the sizes of the categories in the corresponding bar charts."
   ]
  },
  {
   "cell_type": "code",
   "execution_count": 30,
   "metadata": {
    "tags": [
     "remove-cell"
    ]
   },
   "outputs": [
    {
     "data": {
      "text/html": [
       "<strong>png:</strong> 2"
      ],
      "text/latex": [
       "\\textbf{png:} 2"
      ],
      "text/markdown": [
       "**png:** 2"
      ],
      "text/plain": [
       "png \n",
       "  2 "
      ]
     },
     "metadata": {},
     "output_type": "display_data"
    }
   ],
   "source": [
    "png(\"pie_vs_bar.png\", width = 1000, height = 1000)\n",
    "\n",
    "a <- matrix(c(17, 18, 20, 22, 23,\n",
    "                20, 20, 19, 21, 20,\n",
    "                23, 22, 20, 18, 17), nrow=3, byrow=T)\n",
    "  titles <- c(\"A\", \"B\", \"C\")\n",
    "  cols <- c(\"#173f5f\", \"#20639b\", \"#3caea3\", \"#f6d55c\", \"tomato2\")\n",
    "  \n",
    "  defaultmar <- par()$mar\n",
    "  layout(matrix(c(1,3,5,\n",
    "                  2,4,6), nrow=2, byrow=T), height=c(1,1))       \n",
    "  par(cex=2)\n",
    "  par(font=1)\n",
    "  par(las=1)\n",
    "  par(font.axis=1)\n",
    "  par(mgp=c(1,1,0))\n",
    "  \n",
    "  for (i in 1:nrow(a)) {\n",
    "    par(mar=c(0,0,2,0))\n",
    "    pie(a[i,], init=90, clockwise=T, col=cols, radius=0.8)\n",
    "    title(main=titles[i], line=0)\n",
    "    par(mar=defaultmar+c(-2,-1.5,-4,-0.5))\n",
    "    par(mgp=c(0,0.5,0))\n",
    "    barplot(a[i,], horiz=F, xlim=c(0,10), ylim=c(0,25), col=cols, border=1,\n",
    "            names.arg=1:5, space=0.8, axes=F)\n",
    "    par(mgp=c(0,1,0))\n",
    "  \n",
    "    \n",
    "    axis(2)\n",
    "  }\n",
    "\n",
    "dev.off()"
   ]
  },
  {
   "cell_type": "markdown",
   "metadata": {},
   "source": [
    "```{figure} pie_vs_bar.png\n",
    "---\n",
    "width: 100%\n",
    "alt: Three examples comparing pie charts and bar charts illustrating the same data.\n",
    "name: pie-vs-bar\n",
    "---\n",
    "Three examples comparing pie charts and bar charts illustrating the same data. In each case, the qualitative and quantitative features of the data are easier to interpret using the bar chart.[^attribution]\n",
    "```\n",
    "\n",
    "[^attribution]: {numref}`Figure {number} <pie-vs-bar>` was adapted from [an image created by Shutz](https://commons.wikimedia.org/wiki/File:Piecharts.svg) and is licensed under the [Creative Commons Attribution 1.0 Generic](https://creativecommons.org/licenses/by/1.0/deed.en) license."
   ]
  },
  {
   "cell_type": "markdown",
   "metadata": {},
   "source": [
    "While pie charts are still commonly used in media and in business, most visualization experts recommend against using pie charts in favor of other visualization tools like bar charts."
   ]
  },
  {
   "cell_type": "markdown",
   "metadata": {},
   "source": [
    "***"
   ]
  },
  {
   "cell_type": "markdown",
   "metadata": {},
   "source": [
    "### Example 1.5.4"
   ]
  },
  {
   "cell_type": "code",
   "execution_count": null,
   "metadata": {},
   "outputs": [],
   "source": [
    "#**VID=hHDvzYoxWHI**#"
   ]
  },
  {
   "cell_type": "markdown",
   "metadata": {},
   "source": [
    "***"
   ]
  },
  {
   "cell_type": "markdown",
   "metadata": {},
   "source": [
    "## Histograms\n",
    "We apporach graphs for quantitative data similarly, though with a few important distinctions. \n",
    "\n",
    "First, with quantitative data, it is often up to the statistician how to group or categorize the data. For example, if we are gathering data on eye color (qualitative data), we naturally have a category of blue eyes and a category of brown eyes; there is no opportunity to adjust the categories. But if we are gathering data on the heights of adult males (quantitative data), the statistician could partition the data so they get a group of individuals 50-59 inches tall, or they could partition the data so they get a group of individuals 50-54 inches tall and another group of individuals 55-59 inches tall. \n",
    "\n",
    "Second, we can measure how far apart quantitative data is. It doesn't make sense to ask how far apart blue eyes are from brown eyes. But it does make sense to ask how far apart 50 inches is from 59 inches. (They are 59 - 50 = 9 inches apart.)\n",
    "\n",
    "A common way to visualize quantitative data is to use a histogram. A **histogram** is similar to a bar chart, but it is better at displaying quantitative data. Unlike a bar chart, a histogram consists of contiguous (adjoining) boxes so there is no gap between the bars. This helps emphasize the \"distance\" between quantitative data. A histogram has both a horizontal axis and a vertical axis. The horizontal axis is labeled with what the data represents (for instance, distance from your home to school). The vertical axis is labeled either frequency or relative frequency (or percent frequency or probability). The histogram can give you the shape of the data and can suggest where the center of the data is and how spread out the data is.\n",
    "\n",
    "We will use R to construct histograms. To construct a histogram in R, use the <code>hist</code> function:\n",
    "\n",
    "```R\n",
    "hist(x)\n",
    "```\n",
    "\n",
    "Here, <code>x</code> is the list of data we want a histogram of."
   ]
  },
  {
   "cell_type": "markdown",
   "metadata": {},
   "source": [
    "***"
   ]
  },
  {
   "cell_type": "markdown",
   "metadata": {},
   "source": [
    "\n",
    "### Example 5.5\n",
    "The following data are the heights (in inches to the nearest half inch) of 100 male semiprofessional soccer players. The heights are continuous data, since height is measured. \n",
    "\n",
    "60, 60.5, 61, 61, 61.5, 63.5, 63.5, 63.5, 64, 64, 64, 64, 64, 64, 64, 64.5, 64.5, 64.5, 64.5, 64.5, 64.5, 64.5, 64.5, 66, 66, 66, 66, 66, 66, 66, 66, 66, 66, 66.5, 66.5, 66.5, 66.5, 66.5, 66.5, 66.5,    66.5, 66.5, 66.5, 66.5, 67, 67, 67, 67, 67, 67, 67, 67, 67, 67, 67, 67, 67.5, 67.5, 67.5, 67.5, 67.5, 67.5, 68, 68, 69, 69, 69, 69, 69, 69, 69, 69, 69, 69, 69.5, 69.5, 69.5, 69.5, 69.5, 70, 70, 70, 70, 70, 70, 70.5, 70.5, 70.5, 71, 71, 71, 72, 72, 72, 72.5, 72.5, 73, 73.5, 74\n",
    "\n",
    "Construct a histogram of the data. Where do the data seem to be concentrated?\n",
    "\n",
    "#### Solution"
   ]
  },
  {
   "cell_type": "code",
   "execution_count": 32,
   "metadata": {
    "collapsed": true,
    "jupyter": {
     "outputs_hidden": true
    },
    "tags": [
     "remove-output"
    ]
   },
   "outputs": [
    {
     "data": {
      "image/png": "[encoded data removed]",
      "text/plain": [
       "Plot with title “Histogram of data”"
      ]
     },
     "metadata": {
      "filenames": {
       "image/png": "/home/taylor/Dropbox/GitHub/IntroStatsR/_build/jupyter_execute/Ch1 Sampling and Data/1.4 Tables and Charts_36_0.png"
      },
      "image/png": {
       "height": 420,
       "width": 420
      },
      "text/plain": {
       "height": 420,
       "width": 420
      }
     },
     "output_type": "display_data"
    }
   ],
   "source": [
    "data = c(60, 60.5, 61, 61, 61.5, 63.5, 63.5, 63.5, 64, 64, 64, 64, 64, 64, 64, 64.5, 64.5, 64.5, 64.5, 64.5, 64.5, 64.5, 64.5, 66, 66, 66, 66, 66, 66, 66, 66, 66, 66, 66.5, 66.5, 66.5, 66.5, 66.5, 66.5, 66.5, 66.5, 66.5, 66.5, 66.5, 67, 67, 67, 67, 67, 67, 67, 67, 67, 67, 67, 67, 67.5, 67.5, 67.5, 67.5, 67.5, 67.5, 68, 68, 69, 69, 69, 69, 69, 69, 69, 69, 69, 69, 69.5, 69.5, 69.5, 69.5, 69.5, 70, 70, 70, 70, 70, 70, 70.5, 70.5, 70.5, 71, 71, 71, 72, 72, 72, 72.5, 72.5, 73, 73.5, 74)\n",
    "\n",
    "hist(x = data)"
   ]
  },
  {
   "cell_type": "code",
   "execution_count": 52,
   "metadata": {
    "jupyter": {
     "source_hidden": true
    },
    "tags": [
     "remove-cell"
    ]
   },
   "outputs": [
    {
     "data": {
      "text/html": [
       "<strong>png:</strong> 2"
      ],
      "text/latex": [
       "\\textbf{png:} 2"
      ],
      "text/markdown": [
       "**png:** 2"
      ],
      "text/plain": [
       "png \n",
       "  2 "
      ]
     },
     "metadata": {},
     "output_type": "display_data"
    }
   ],
   "source": [
    "png(\"soccer_hist.png\", width = 1000, height = 500)\n",
    "\n",
    "par(mgp = c(4, 1, 0), mar = c(5, 6, 5, 0))\n",
    "data = c(60, 60.5, 61, 61, 61.5, 63.5, 63.5, 63.5, 64, 64, 64, 64, 64, 64, 64, 64.5, 64.5, 64.5, 64.5, 64.5, 64.5, 64.5, 64.5, 66, 66, 66, 66, 66, 66, 66, 66, 66, 66, 66.5, 66.5, 66.5, 66.5, 66.5, 66.5, 66.5, 66.5, 66.5, 66.5, 66.5, 67, 67, 67, 67, 67, 67, 67, 67, 67, 67, 67, 67, 67.5, 67.5, 67.5, 67.5, 67.5, 67.5, 68, 68, 69, 69, 69, 69, 69, 69, 69, 69, 69, 69, 69.5, 69.5, 69.5, 69.5, 69.5, 70, 70, 70, 70, 70, 70, 70.5, 70.5, 70.5, 71, 71, 71, 72, 72, 72, 72.5, 72.5, 73, 73.5, 74)\n",
    "\n",
    "hist(x = data, cex.lab = 2.5, cex.axis = 2, cex.main = 2.5, col = \"gray70\")\n",
    "\n",
    "dev.off()"
   ]
  },
  {
   "cell_type": "markdown",
   "metadata": {},
   "source": [
    "```{figure} soccer_hist.png\n",
    "---\n",
    "width: 100%\n",
    "alt: Histogram of the heights of soccer players.\n",
    "name: soccer-hist\n",
    "---\n",
    "A histogram of the heights of 100 semiprofessional soccer players. Note there is no gap in between the bars, and each bar represents a range of values instead of a single category or number.\n",
    "```"
   ]
  },
  {
   "cell_type": "markdown",
   "metadata": {},
   "source": [
    "From the histogram, we can see that most of the players' heights are between 64 inches and 70 inches.\n",
    "\n",
    "```{note}\n",
    "For histograms in R, each bar represents the frequency of values that lie between the endpoints to left and right of the bar, but *not including* the endpoint to the left and *including* the value to the right. For instance, the bar between 70 and 72 in this example counts only the data 70.5, 70.5, 70.5, 71, 71, 71, 72, 72, 72. So it includes the data points of value 72 (the right endpoint) but not the data points of value 70 (the left endpoint). The one exception to this rule is the bar on the far left, which includes values at both endpoints.\n",
    "```"
   ]
  },
  {
   "cell_type": "markdown",
   "metadata": {},
   "source": [
    "***"
   ]
  },
  {
   "cell_type": "markdown",
   "metadata": {},
   "source": [
    "### Example 5.6\n",
    "Create a histogram for the following data: the number of books bought by 50 part-time college students at ABC College. The number of books is discrete data, since books are counted. \n",
    "\n",
    "0, 0, 1, 1, 1, 1, 1, 1, 1, 1, 1, 2, 2, 2, 2, 2, 2, 2, 2, 2, 2, 3, 3, 3, 3, 3, 3, 3, 3, 3, 3, 3, 3, 3, 3, 3, 3, 4, 4, 4, 4, 4, 4, 5, 5, 5, 5, 5, 6, 6\n",
    "\n",
    "#### Solution"
   ]
  },
  {
   "cell_type": "code",
   "execution_count": 6,
   "metadata": {},
   "outputs": [
    {
     "data": {
      "image/png": "[encoded data removed]",
      "text/plain": [
       "Plot with title \"Histogram of books\""
      ]
     },
     "metadata": {
      "filenames": {
       "image/png": "/home/taylor/Dropbox/GitHub/IntroStatsR/_build/jupyter_execute/Ch1 Sampling and Data/1.4 Tables and Charts_42_0.png"
      }
     },
     "output_type": "display_data"
    }
   ],
   "source": [
    "#**ALT=Histogram of data in example 5.4 generated using R**#\n",
    "books <- c(0, 0, 1, 1, 1, 1, 1, 1, 1, 1, 1, 2, 2, 2, 2, 2, 2, 2, 2, 2, 2, 3, 3, 3, 3, 3, 3, 3, 3, 3, 3, 3, 3, 3, 3, 3, 3, 4, 4, 4, 4, 4, 4, 5, 5, 5, 5, 5, 6, 6)\n",
    "\n",
    "hist(x = books)"
   ]
  }
 ],
 "metadata": {
  "kernelspec": {
   "display_name": "R",
   "language": "R",
   "name": "ir"
  },
  "language_info": {
   "codemirror_mode": "r",
   "file_extension": ".r",
   "mimetype": "text/x-r-source",
   "name": "R",
   "pygments_lexer": "r",
   "version": "3.6.3"
  }
 },
 "nbformat": 4,
 "nbformat_minor": 4
}