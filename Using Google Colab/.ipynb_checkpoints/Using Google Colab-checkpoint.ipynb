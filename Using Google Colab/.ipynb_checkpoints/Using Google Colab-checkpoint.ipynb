{
 "cells": [
  {
   "cell_type": "markdown",
   "metadata": {},
   "source": [
    "# Using Google Colab\n",
    "## Objectives\n",
    "- Create a new Google Colab Notebook.\n",
    "- Share a Notebook.\n",
    "- Access a previously saved Notebook.\n",
    "- Create, move, and delete code cells and text cells within a Notebook.\n",
    "- Create lists, italic and bold text, and tables within a text cell."
   ]
  },
  {
   "cell_type": "markdown",
   "metadata": {},
   "source": [
    "## What is Google Colab?\n",
    "**Google Colab** is a web-based interactive computational environment that allows users to create documents, called Notebooks, "
   ]
  }
 ],
 "metadata": {
  "kernelspec": {
   "display_name": "R",
   "language": "R",
   "name": "ir"
  },
  "language_info": {
   "codemirror_mode": "r",
   "file_extension": ".r",
   "mimetype": "text/x-r-source",
   "name": "R",
   "pygments_lexer": "r",
   "version": "3.6.1"
  }
 },
 "nbformat": 4,
 "nbformat_minor": 4
}
