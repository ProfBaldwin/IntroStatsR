{
 "cells": [
  {
   "cell_type": "markdown",
   "metadata": {},
   "source": [
    "# Tables and Charts"
   ]
  },
  {
   "cell_type": "markdown",
   "metadata": {},
   "source": [
    "## Objectives\n",
    "- Create and interpret frequency tables.\n",
    "- Create and interpret bar charts, histograms, and pie charts."
   ]
  },
  {
   "cell_type": "markdown",
   "metadata": {},
   "source": [
    "## Frequency\n",
    "Once you have a set of data, you will need to organize it so that you can analyze how frequently each datum occurs in the set. The **frequency** of a value is the number of times the value occurs in the data.\n",
    "\n",
    "For example, imagine twenty students in an organic chemistry class obtain the following grades:\n",
    "\n",
    "\n",
    "<center>C, A, F, B, F, C, A, A, B, B, C, C, B, A, D, A, B, B, B, C</center>\n",
    "<br/>\n",
    "\n",
    "By counting the number of times each value occurs, we can construct a **frequency table** for the data, shown in {numref}`grade-frequency-table`.\n",
    "\n",
    "```{list-table} The frequency with which each grade is obtained in an organic chemistry class. The frequency of a value is the number of times the value occurs in a data set.\n",
    ":header-rows: 1\n",
    ":name: grade-frequency-table\n",
    "* - Grade\n",
    "  - Frequency\n",
    "* - A\n",
    "  - 5\n",
    "* - B\n",
    "  - 7\n",
    "* - C\n",
    "  - 5\n",
    "* - D\n",
    "  - 1\n",
    "* - F\n",
    "  - 2\n",
    "* - \n",
    "  - **Total = 20**\n",
    "```\n",
    "          \n",
    "By inspecting the table, we see, for example, that 7 students received a B in Organic Chemistry.\n",
    "\n",
    "It is sometimes more useful to know how many times a particular value occurs in comparison to the total number of values in the data. (A surgeon who has performed 99 surgeries out of 100 successfully may be a good surgeon. A surgeon who has performed 99 surgeries out of 1,000 successfully may not be a good surgeon.)  A **relative frequency** is the ratio (fraction or proportion) of the number of times a value of the data occurs to the total number of outcomes. To find the relative frequencies, divide each frequency by the total number values. Relative frequencies can be written as fractions, percents, or decimals.\n",
    "\n",
    "For the example of the twenty-student organic chemistry class above, the **relative frequency table** is provided in {numref}`grade-rf-table`.\n",
    "\n",
    "```{list-table} The frequency and relative frequency with which each grade is obtained in an organic chemistry class. The relative frequency for each value is obtained by dividing the frequency of the value by the total size of the data set.\n",
    ":header-rows: 1\n",
    ":name: grade-rf-table\n",
    "* - Grade\n",
    "  - Frequency\n",
    "  - Relative Frequency\n",
    "* - A\n",
    "  - 5\n",
    "  - $\\dfrac{5}{20} = 0.25$\n",
    "* - B\n",
    "  - 7\n",
    "  - $\\dfrac{7}{20} = 0.35$\n",
    "* - C\n",
    "  - 5\n",
    "  - $\\dfrac{5}{20} = 0.25$\n",
    "* - D\n",
    "  - 1\n",
    "  - $\\dfrac{1}{20} = 0.05$\n",
    "* - F\n",
    "  - 2\n",
    "  - $\\dfrac{2}{20} = 0.10$\n",
    "* - \n",
    "  - **Total = 20**\n",
    "  - **Total = 1.00**\n",
    "```\n",
    "          \n",
    "Note that the sum of the relative frequencies should always add up to 1.00 or 100% since the table accounts for all (that is, 100%) of the data values.\n",
    "          \n",
    "We could also **group** data and calculate the frequency and relative frequency for each group. For example, {numref}`soccer-height-table` represents the heights, in inches, of a sample of 150 male semiprofessional soccer players.\n",
    "\n",
    "```{list-table} The frequency and relative frequency of soccer player heights.\n",
    ":header-rows: 1\n",
    ":name: soccer-height-table\n",
    "* - Height (Inches)\n",
    "  - Frequency\n",
    "  - Relative Frequency\n",
    "* - 60-62\n",
    "  - 8\n",
    "  - $\\dfrac{8}{150} = 0.0533$\n",
    "* - 62-64\n",
    "  - 4\n",
    "  - $\\dfrac{4}{150} = 0.0267$\n",
    "* - 64-66\n",
    "  - 23\n",
    "  - $\\dfrac{23}{150} = 0.1533$\n",
    "* - 66-68\n",
    "  - 60\n",
    "  - $\\dfrac{60}{150} = 0.4000$\n",
    "* - 68-70\n",
    "  - 25\n",
    "  - $\\dfrac{25}{150} = 0.1667$\n",
    "* - 70-72\n",
    "  - 18\n",
    "  - $\\dfrac{18}{150} = 0.1200$\n",
    "* - 72-74\n",
    "  - 10\n",
    "  - $\\dfrac{10}{150} = 0.0667$\n",
    "* - 74-76\n",
    "  - 2\n",
    "  - $\\dfrac{2}{150} = 0.0133$\n",
    "* - \n",
    "  - **Total = 150**\n",
    "  - **Total = 1.00**\n",
    "```\n",
    "\n",
    "So, for example, a soccer player in the sample that is 64.5 inches tall will be counted in the group of athletes with heights between 64-66 inches."
   ]
  },
  {
   "cell_type": "markdown",
   "metadata": {},
   "source": [
    "***"
   ]
  },
  {
   "cell_type": "markdown",
   "metadata": {},
   "source": [
    "### Example 1.4.1\n",
    "Adrian asked 75 instructors whether they preferred teaching face-to-face, online, or hybrid. His results can be found in the incomplete frequency table below. Complete the table.\n",
    "\n",
    "```{list-table} An incomplete frequency table showing what types of classes 75 instructors prefer to teach.\n",
    ":header-rows: 1\n",
    ":name: modality-frequency-table-incomplete\n",
    "* - Type of Class\n",
    "  - Frequency\n",
    "  - Relative Frequency\n",
    "* - Face-to-Face\n",
    "  - 42\n",
    "  -\n",
    "* - Online\n",
    "  -\n",
    "  -\n",
    "* - Hybrid\n",
    "  - 7\n",
    "  -\n",
    "```\n",
    "\n",
    "#### Solution\n",
    "Let's first find the missing frequency. We know there are 75 total instructors in the sample, and each instructor is represented in exactly one of the three categories. So all the frequencies added together, including the missing frequency (let's call it $x$), should be 75.\n",
    "\n",
    "$$ 42 + x + 7 = 75. $$\n",
    "\n",
    "Solving for $x$, we get\n",
    "\n",
    "$$ x = 75 - 42 - 7 = 26. $$\n",
    "\n",
    "So there are 26 instructors who prefer teaching online.\n",
    "\n",
    "Now that we have all the frequencies, we can find the relative frequency of each category. To do so, we divide the frequency of each category by the total number of instructors in the sample. We can use R to do the calculations."
   ]
  },
  {
   "cell_type": "code",
   "execution_count": 24,
   "metadata": {},
   "outputs": [
    {
     "data": {
      "text/html": [
       "0.56"
      ],
      "text/latex": [
       "0.56"
      ],
      "text/markdown": [
       "0.56"
      ],
      "text/plain": [
       "[1] 0.56"
      ]
     },
     "metadata": {},
     "output_type": "display_data"
    },
    {
     "data": {
      "text/html": [
       "0.346666666666667"
      ],
      "text/latex": [
       "0.346666666666667"
      ],
      "text/markdown": [
       "0.346666666666667"
      ],
      "text/plain": [
       "[1] 0.3466667"
      ]
     },
     "metadata": {},
     "output_type": "display_data"
    },
    {
     "data": {
      "text/html": [
       "0.0933333333333333"
      ],
      "text/latex": [
       "0.0933333333333333"
      ],
      "text/markdown": [
       "0.0933333333333333"
      ],
      "text/plain": [
       "[1] 0.09333333"
      ]
     },
     "metadata": {},
     "output_type": "display_data"
    }
   ],
   "source": [
    "# Relative Frequency for Face-to-Face Modality\n",
    "42/75\n",
    "\n",
    "# Relative Frequency for Online Modality\n",
    "26/75\n",
    "\n",
    "# Relative Frequency for Hybrid Modality\n",
    "7/75"
   ]
  },
  {
   "cell_type": "markdown",
   "metadata": {},
   "source": [
    "{numref}`modality-frequency-table-complete` is the completed table. The values we added to the table are in bold, and we rounded the relative frequencies to four decimal places.\n",
    "```{list-table} A completed frequency table showing what types of classes 75 instructors prefer to teach.\n",
    ":header-rows: 1\n",
    ":name: modality-frequency-table-complete\n",
    "* - Type of Class\n",
    "  - Frequency\n",
    "  - Relative Frequency\n",
    "* - Face-to-Face\n",
    "  - 42\n",
    "  - **0.56**\n",
    "* - Online\n",
    "  - **26**\n",
    "  - **0.3467**\n",
    "* - Hybrid\n",
    "  - 7\n",
    "  - **0.0933**\n",
    "```"
   ]
  },
  {
   "cell_type": "markdown",
   "metadata": {},
   "source": [
    "***"
   ]
  },
  {
   "cell_type": "markdown",
   "metadata": {},
   "source": [
    "### Example 1.4.2"
   ]
  },
  {
   "cell_type": "code",
   "execution_count": 25,
   "metadata": {},
   "outputs": [],
   "source": [
    "## To Do: Example Video with missing relative frequency"
   ]
  },
  {
   "cell_type": "markdown",
   "metadata": {},
   "source": [
    "***"
   ]
  },
  {
   "cell_type": "markdown",
   "metadata": {},
   "source": [
    "## Bar Charts\n",
    "Once you have organized your data, it can be useful to present the data graphically. For qualitative or categorical data, **Bar charts** or **bar graphs** can be used to visualize the frequency or relative frequency of each category. In a bar chart, each category has a rectangular bar associated with it, where the height of the bar (or the width of the bar, for a horizontal bar chart) represents the frequency or relative frequency of the category. The bars in a bar chart are separated by a small space or gap."
   ]
  },
  {
   "cell_type": "markdown",
   "metadata": {},
   "source": [
    "***"
   ]
  },
  {
   "cell_type": "markdown",
   "metadata": {},
   "source": [
    "### Example 1.4.3\n",
    "\n",
    "An elementary school teacher records for one week how many students were absent each day. {numref}`Figure {number} <elementary-attendance-barchart>` below summarizes the data she obtained. Use the bar chart to answer the following questions.\n",
    "\n",
    "1. On which day were the most students absent?\n",
    "2. How many students were absent on Wednesday?\n",
    "3. What percentage of absences occurred on Tuesday?"
   ]
  },
  {
   "cell_type": "code",
   "execution_count": 12,
   "metadata": {
    "tags": [
     "remove-cell"
    ]
   },
   "outputs": [
    {
     "data": {
      "text/html": [
       "<strong>png:</strong> 2"
      ],
      "text/latex": [
       "\\textbf{png:} 2"
      ],
      "text/markdown": [
       "**png:** 2"
      ],
      "text/plain": [
       "png \n",
       "  2 "
      ]
     },
     "metadata": {},
     "output_type": "display_data"
    }
   ],
   "source": [
    "png(\"elementary_attendance_barchart.png\", width = 1000, height = 500)\n",
    "\n",
    "absences = c(5, 2, 3, 4, 6)\n",
    "day = c(\"Monday\", \"Tuesday\", \"Wednesday\", \"Thursday\", \"Friday\")\n",
    "\n",
    "barplot(height = absences, names = day, ylim = c(0,6.2), cex.names = 2, cex.axis = 2, cex.main = 2.5, main = \"Student Absences\")\n",
    "for (j in 1:6) {\n",
    "    abline(h = j, col = \"gray50\")\n",
    "}\n",
    "barplot(height = absences, names = day, ylim = c(0,6.2), cex.names = 2, cex.axis = 2, cex.main = 2.5, main = \"Student Absences\", add = TRUE)\n",
    "\n",
    "dev.off()"
   ]
  },
  {
   "cell_type": "markdown",
   "metadata": {},
   "source": [
    "```{figure} elementary_attendance_barchart.png\n",
    "---\n",
    "width: 100%\n",
    "alt: A bar chart illustrating the number of absences each in an elementary school class each day for one week. Monday, 5. Tuesday, 2. Wednesday, 3. Thursday, 4. Friday, 6.\n",
    "name: elementary-attendance-barchart\n",
    "---\n",
    "A bar chart illustrating the number of absences in an elementary school class each day for one week.\n",
    "```"
   ]
  },
  {
   "cell_type": "markdown",
   "metadata": {},
   "source": [
    "#### Solution\n",
    "\n",
    "##### Part 1\n",
    "Friday has the highest bar on the bar chart, so the most students were absent on Friday.\n",
    "\n",
    "##### Part 2\n",
    "The bar for Wednesday has a height of 3, meaning 3 students were absent on Wednesday.\n",
    "\n",
    "##### Part 3\n",
    "To find what *percentage* of absences occurred on Tuesday, we must first find what *fraction* of absences occurrred on Tuesday. Looking at the bar chart, we see that 2 absences occurred on Tuesday. We need to divide this by the total number of absences that occurred during the week. There were 5 absences on Monday, 2 on Tuesday, 3 on Wednesday, 4 on Thursday, and 6 on Friday, for a total of \n",
    "\n",
    "$$5 + 2 + 3 + 4 + 6 = 20$$\n",
    "\n",
    "absences that occurred during the week. So the *fraction* of absences that occurred on Tuesday is\n",
    "\n",
    "$$ 2/20 $$\n",
    "\n",
    "Now, to calculate the *percentage* of absences, we multiply this fraction by 100%."
   ]
  },
  {
   "cell_type": "code",
   "execution_count": 8,
   "metadata": {},
   "outputs": [
    {
     "data": {
      "text/html": [
       "10"
      ],
      "text/latex": [
       "10"
      ],
      "text/markdown": [
       "10"
      ],
      "text/plain": [
       "[1] 10"
      ]
     },
     "metadata": {},
     "output_type": "display_data"
    }
   ],
   "source": [
    "2/20 * 100"
   ]
  },
  {
   "cell_type": "markdown",
   "metadata": {},
   "source": [
    "So 10% of the week's absences occurred on Tuesday."
   ]
  },
  {
   "cell_type": "markdown",
   "metadata": {},
   "source": [
    "***"
   ]
  },
  {
   "cell_type": "markdown",
   "metadata": {},
   "source": [
    "### Example 1.4.4"
   ]
  },
  {
   "cell_type": "code",
   "execution_count": null,
   "metadata": {},
   "outputs": [],
   "source": [
    "## To Do: Video Example Reading Barcharts"
   ]
  },
  {
   "cell_type": "markdown",
   "metadata": {},
   "source": [
    "***"
   ]
  },
  {
   "cell_type": "markdown",
   "metadata": {},
   "source": [
    "We can use R to construct a bar chart for us by specifying both the categories of the data and the frequencies (or relative frequencies) of those categories. To do so, we use the <code>barplot</code> function:\n",
    "\n",
    "```R\n",
    "barplot(height, names)\n",
    "```\n",
    "\n",
    "Here, <code>height</code> is a list of the heights (the frequencies or relative frequencies) of the bars, and <code>names</code> is the corresponding list of categories that will be used to label the bars. The order of the <code>height</code> list must correspond to the order of the <code>names</code> list so that the bar with the first height is labeled with the first name, the bar with the second height is labeled with the second name, etc."
   ]
  },
  {
   "cell_type": "markdown",
   "metadata": {},
   "source": [
    "***"
   ]
  },
  {
   "cell_type": "markdown",
   "metadata": {},
   "source": [
    "\n",
    "### Example 1.4.5\n",
    "The population in Park City is made up of children, working-age adults, and retirees. {numref}`park-city-population-table` shows the three age groups, the number of people in the city in each age group, and the proportion of people in each age group. Construct a bar graph showing the proportions.\n",
    "\n",
    "```{list-table} Population in Park City by age group.\n",
    ":header-rows: 1\n",
    ":name: park-city-population-table\n",
    "* - Age Groups\n",
    "  - Number of People\n",
    "  - Proportion of Population\n",
    "* - Children\n",
    "  - 67,059\n",
    "  - 19.11%\n",
    "* - Working-age Adults\n",
    "  - 152,198\n",
    "  - 43.37%\n",
    "* - Retirees\n",
    "  - 131,662\n",
    "  - 37.52%\n",
    "```\n",
    "\n",
    "```{note}\n",
    "{numref}`park-city-population-table` is a relative frequency table even though the table uses different labels for the frequency and relative frequency columns than we saw in the other examples. The frequency column is labeled \"Number of People\". The relative frequency column is labeled \"Proportion of Population\", and relative frequencies are given in percents instead of fractions or decimals.\n",
    "```\n",
    "\n",
    "#### Solution\n",
    "In this example, we have three categories of age groups (\"Children\", \"Working-age adults\", \"Retirees\"). We are given the frequency of each age group in the \"Number of people\" column and the relative frequency in the \"Proportion of the population\" column. We will use R to construct a bar graph of the relative frequencies of each category."
   ]
  },
  {
   "cell_type": "code",
   "execution_count": 1,
   "metadata": {
    "tags": [
     "remove-output"
    ]
   },
   "outputs": [
    {
     "data": {
      "image/png": "[encoded data removed]",
      "text/plain": [
       "plot without title"
      ]
     },
     "metadata": {
      "image/png": {
       "height": 420,
       "width": 420
      },
      "text/plain": {
       "height": 420,
       "width": 420
      }
     },
     "output_type": "display_data"
    }
   ],
   "source": [
    "proportions = c(19.11, 43.37, 37.52)\n",
    "age_groups = c(\"Children\", \"Working-age Adults\", \"Retirees\")\n",
    "\n",
    "barplot(height = proportions, names = age_groups)"
   ]
  },
  {
   "cell_type": "code",
   "execution_count": 10,
   "metadata": {
    "tags": [
     "remove-cell"
    ]
   },
   "outputs": [
    {
     "data": {
      "text/html": [
       "<strong>png:</strong> 2"
      ],
      "text/latex": [
       "\\textbf{png:} 2"
      ],
      "text/markdown": [
       "**png:** 2"
      ],
      "text/plain": [
       "png \n",
       "  2 "
      ]
     },
     "metadata": {},
     "output_type": "display_data"
    }
   ],
   "source": [
    "png(\"park_city_barchart.png\", width = 1000, height = 500)\n",
    "\n",
    "proportions = c(19.11, 43.37, 37.52)\n",
    "age_groups = c(\"Children\", \"Working-age Adults\", \"Retirees\")\n",
    "\n",
    "barplot(height = proportions, names = age_groups, cex.names = 2, cex.axis = 2)\n",
    "\n",
    "dev.off()"
   ]
  },
  {
   "cell_type": "markdown",
   "metadata": {},
   "source": [
    "```{figure} park_city_barchart.png\n",
    "---\n",
    "width: 100%\n",
    "alt: A bar chart of the proportion of people in each age group in Park City.\n",
    "name: park-city-barchart\n",
    "---\n",
    "A bar chart illustrating the proportion of each age group relative to the population of Park City.\n",
    "```"
   ]
  },
  {
   "cell_type": "markdown",
   "metadata": {},
   "source": [
    "\n",
    "\n",
    "\n",
    "`````{warning}\n",
    "Note that the labels \"Children\", \"Working-age Adults\", and \"Retirees\" in the code block in this example are each in double quotes. Double quotes surrounding text tells R that the text is just a label, not instructions the computer should follow. If you don't include the double quotes, R will return an error. When creating a list of <code>names</code> for a bar plot:\n",
    "\n",
    "- Make sure *each* label in the list is contained within double quotes.\n",
    "- Make sure *only* the label is in the double quotes. In particular, the comma separating the labels should be outside the double quotes.\n",
    "\n",
    "For the example above, here are ways to define the labels for the bar plot correctly and incorrectly in R.\n",
    "\n",
    "````{admonition} Incorrect\n",
    ":class: error\n",
    "```\n",
    "age_groups = c(\"Children, Working-age Adults, Retirees\")\n",
    "```\n",
    "**Why?**<br/>\n",
    "All labels are between the same set of double quotes. Each label should have its own set of double quotes.\n",
    "````\n",
    "\n",
    "\n",
    "````{admonition} Incorrect\n",
    ":class: error\n",
    "```\n",
    "age_groups = c(\"Children,\" \"Working-age Adults,\" \"Retirees\")\n",
    "```\n",
    "**Why?**<br/>\n",
    "The commas separating the labels are inside the double quotes, which tells R that the commas are part of the labels. But we actually want the commas to separate the labels. The commas should be outside the double quotes.\n",
    "````\n",
    "\n",
    "\n",
    "\n",
    "````{admonition} Correct\n",
    "```\n",
    "age_groups = c(\"Children\", \"Working-age Adults\", \"Retirees\")\n",
    "```\n",
    "**Why?**<br/>\n",
    "Each label has its own set of double quotes, and only the labels are inside the double quotes. The commas are outside the double quotes.\n",
    "````\n",
    "\n",
    "`````"
   ]
  },
  {
   "cell_type": "markdown",
   "metadata": {},
   "source": [
    "***"
   ]
  },
  {
   "cell_type": "markdown",
   "metadata": {},
   "source": [
    "\n",
    "### Example 1.4.6\n",
    "The columns in the table below contain: the race or ethnicity of students in U.S. Public Schools for the class of 2011, percentages for the Advanced Placement examine population for that class, and percentages for the overall student population. Create a bar graph with the student race or ethnicity (qualitative data) on the x-axis, and the Advanced Placement examinee population percentages on the y-axis.\n",
    "\n",
    "```{list-table} Race/Ethnicity of AP Examinee Population vs. Overall Student Population. Note a key is provided which assigns a letter to each race/ethnicity. This makes it easier to reference the long race/ethnicity names.\n",
    ":header-rows: 1\n",
    ":name: ap-examinee-table\n",
    "* - Race/Ethnicity\n",
    "  - AP Examinee Population\n",
    "  - Overall Student Population\n",
    "* - A = Asian, Asian American, or Pacific Islander\n",
    "  - 10.3%\n",
    "  - 5.7%\n",
    "* - B = Black or African American\n",
    "  - 9.0%\n",
    "  - 14.7%\n",
    "* - C = Hispanic or Latino\n",
    "  - 17.0%\n",
    "  - 17.6%\n",
    "* - D = American Indian or Alaskan Native\n",
    "  - 0.6%\n",
    "  - 1.1%\n",
    "* - E = White\n",
    "  - 57.1%\n",
    "  - 59.2%\n",
    "* - F = Not Reported/Other\n",
    "  - 6.0%\n",
    "  - 1.7%\n",
    "```\n",
    "\n",
    "```{note}\n",
    "{numref}`ap-examinee-table` does not include a frequency column. Instead, it provides the relative frequencies (as percents) of two different populations: the AP examinee population and the overall student population.\n",
    "```\n",
    "\n",
    "#### Solution\n",
    "This table provides us with the relative frequecy of each ethnicity in two different populations: the population of all AP examinees and the overall student population. In this case, we will only use the data in the \"AP Examinee Population\" column to construct our bar chart; we will not use the \"Overall Student Population\" data in this example."
   ]
  },
  {
   "cell_type": "code",
   "execution_count": 4,
   "metadata": {
    "tags": [
     "remove-output"
    ]
   },
   "outputs": [
    {
     "data": {
      "image/png": "[encoded data removed]",
      "text/plain": [
       "plot without title"
      ]
     },
     "metadata": {
      "image/png": {
       "height": 420,
       "width": 420
      },
      "text/plain": {
       "height": 420,
       "width": 420
      }
     },
     "output_type": "display_data"
    }
   ],
   "source": [
    "APproportion = c(10.3, 9.0, 17.0, 0.6, 57.1, 6.0)\n",
    "race = c(\"A\", \"B\", \"C\", \"D\", \"E\", \"F\")\n",
    "\n",
    "barplot(height = APproportion, names = race)"
   ]
  },
  {
   "cell_type": "code",
   "execution_count": 5,
   "metadata": {
    "tags": [
     "remove-cell"
    ]
   },
   "outputs": [
    {
     "data": {
      "text/html": [
       "<strong>png:</strong> 2"
      ],
      "text/latex": [
       "\\textbf{png:} 2"
      ],
      "text/markdown": [
       "**png:** 2"
      ],
      "text/plain": [
       "png \n",
       "  2 "
      ]
     },
     "metadata": {},
     "output_type": "display_data"
    }
   ],
   "source": [
    "png(\"ap_examinees_barchart.png\", width = 1000, height = 500)\n",
    "\n",
    "APproportion = c(10.3, 9.0, 17.0, 0.6, 57.1, 6.0)\n",
    "race = c(\"A\", \"B\", \"C\", \"D\", \"E\", \"F\")\n",
    "\n",
    "barplot(height = APproportion, names = race, cex.names = 2, cex.axis = 2)\n",
    "\n",
    "dev.off()"
   ]
  },
  {
   "cell_type": "markdown",
   "metadata": {},
   "source": [
    "```{figure} ap_examinees_barchart.png\n",
    "---\n",
    "width: 100%\n",
    "alt: A bar chart of the proportion of each race/ethnicity in the AP examinee population.\n",
    "name: ap-examinees-barchart\n",
    "---\n",
    "A bar chart illustrating the proportion of each race/ethnicity in the AP examinee population.\n",
    "```"
   ]
  },
  {
   "cell_type": "markdown",
   "metadata": {},
   "source": [
    "Because the names of the races/ethnicities are so long, there isn't enough room on the bar chart to use the actual names of the races/ethnicities as the bar labels. Instead, we use a key for the labels (\"A\" for \"Asian, Asian American, or Pacific Islander\", \"B\" for \"Black or African American\", \"C\" for \"Hispanic or Latino\", etc.)."
   ]
  },
  {
   "cell_type": "markdown",
   "metadata": {},
   "source": [
    "***"
   ]
  },
  {
   "cell_type": "markdown",
   "metadata": {},
   "source": [
    "### Example"
   ]
  },
  {
   "cell_type": "code",
   "execution_count": null,
   "metadata": {},
   "outputs": [],
   "source": [
    "## To Do: Video Example Creating Bar Charts"
   ]
  },
  {
   "cell_type": "markdown",
   "metadata": {},
   "source": [
    "***"
   ]
  },
  {
   "cell_type": "markdown",
   "metadata": {},
   "source": [
    "## Pie Charts"
   ]
  },
  {
   "cell_type": "markdown",
   "metadata": {},
   "source": [
    "Qualitative data can also be visualized using a pie chart. In a **pie chart**, a circle is sliced (like a pie) so that the number of categories in the data is equal to the number of slices, and the size of each slice is proportional to the corresponding category's quantity.\n",
    "\n",
    "We can create a pie chart in R using the <code>pie</code> function:\n",
    "\n",
    "```R\n",
    "pie(x, labels)\n",
    "```\n",
    "Here, <code>x</code> is a list with a frequency (or relative frequency) for each category, and <code>labels</code> is a list with a label for each category. The two lists must be in the same order.\n",
    "\n",
    "The <code>x</code> and <code>labels</code> variables in the <code>pie</code> function are equivalent, respectively, to the <code>height</code> and <code>names</code> variables in the <code>barplot</code> function. \n",
    "\n",
    "Let's revisit the population of Park City in <a href=\"#example-1-4-5\">Example 1.4.5</a>, but this time construct a pie chart of the data."
   ]
  },
  {
   "cell_type": "markdown",
   "metadata": {},
   "source": [
    "***"
   ]
  },
  {
   "cell_type": "markdown",
   "metadata": {},
   "source": [
    "### Example 1.4.7\n",
    "The population in Park City is made up of children, working-age adults, and retirees. {numref}`park-city-population-table-pie` shows the three age groups, the number of people in the city in each age group, and the proportion of people in each age group. Construct a pie chart showing the proportions.\n",
    "\n",
    "```{list-table} Population in Park City by age group.\n",
    ":header-rows: 1\n",
    ":name: park-city-population-table-pie\n",
    "* - Age Groups\n",
    "  - Number of People\n",
    "  - Proportion of Population\n",
    "* - Children\n",
    "  - 67,059\n",
    "  - 19.11%\n",
    "* - Working-age Adults\n",
    "  - 152,198\n",
    "  - 43.37%\n",
    "* - Retirees\n",
    "  - 131,662\n",
    "  - 37.52%\n",
    "```\n",
    "\n",
    "\n",
    "#### Solution\n",
    "We use R to construct a pie chart."
   ]
  },
  {
   "cell_type": "code",
   "execution_count": 2,
   "metadata": {
    "tags": [
     "remove-output"
    ]
   },
   "outputs": [
    {
     "data": {
      "image/png": "[encoded data removed]",
      "text/plain": [
       "plot without title"
      ]
     },
     "metadata": {
      "image/png": {
       "height": 420,
       "width": 420
      },
      "text/plain": {
       "height": 420,
       "width": 420
      }
     },
     "output_type": "display_data"
    }
   ],
   "source": [
    "proportions = c(19.11, 43.37, 37.52)\n",
    "age_groups = c(\"Children\", \"Working-age Adults\", \"Retirees\")\n",
    "\n",
    "pie(proportions, labels = age_groups)"
   ]
  },
  {
   "cell_type": "code",
   "execution_count": 3,
   "metadata": {
    "tags": [
     "remove-cell"
    ]
   },
   "outputs": [
    {
     "data": {
      "text/html": [
       "<strong>png:</strong> 2"
      ],
      "text/latex": [
       "\\textbf{png:} 2"
      ],
      "text/markdown": [
       "**png:** 2"
      ],
      "text/plain": [
       "png \n",
       "  2 "
      ]
     },
     "metadata": {},
     "output_type": "display_data"
    }
   ],
   "source": [
    "png(\"park_city_piechart.png\", width = 1000, height = 1000)\n",
    "\n",
    "par(mar = c(2, 0, 0, 0))\n",
    "\n",
    "proportions = c(19.11, 43.37, 37.52)\n",
    "age_groups = c(\"Children\", \"Working-age\\nAdults\", \"Retirees\")\n",
    "\n",
    "pie(proportions, labels = age_groups, cex = 2.5)\n",
    "\n",
    "dev.off()"
   ]
  },
  {
   "cell_type": "markdown",
   "metadata": {},
   "source": [
    "```{figure} park_city_piechart.png\n",
    "---\n",
    "width: 80%\n",
    "alt: A pie chart of the proportion of people in each age group in Park City.\n",
    "name: park-city-piechart\n",
    "---\n",
    "A pie chart illustrating the proportion of each age group relative to the population of Park City.\n",
    "```"
   ]
  },
  {
   "cell_type": "markdown",
   "metadata": {},
   "source": [
    "***"
   ]
  },
  {
   "cell_type": "markdown",
   "metadata": {},
   "source": [
    "Compare the bar chart in <a href=\"#example-1-4-5\">Example 1.4.5</a> with the pie chart in <a href=\"#example-1-4-7\">Example 1.4.7</a>. Which do you think is easier to read? Notice that it is a little difficult to decide if the \"working-age adults\" category or the \"retirees\" category is larger with the pie chart, but it is immediately obvious which category is larger using the bar chart. This isn't just a quirk with this data: bar charts tend to be easier to read than pie charts.\n",
    "\n",
    "As another example, consider the pie charts and bar charts below. Notice how hard it is to compare the sizes of the categories in the pie charts; notice how much easier it is to compare the sizes of the categories in the corresponding bar charts."
   ]
  },
  {
   "cell_type": "code",
   "execution_count": 30,
   "metadata": {
    "tags": [
     "remove-cell"
    ]
   },
   "outputs": [
    {
     "data": {
      "text/html": [
       "<strong>png:</strong> 2"
      ],
      "text/latex": [
       "\\textbf{png:} 2"
      ],
      "text/markdown": [
       "**png:** 2"
      ],
      "text/plain": [
       "png \n",
       "  2 "
      ]
     },
     "metadata": {},
     "output_type": "display_data"
    }
   ],
   "source": [
    "png(\"pie_vs_bar.png\", width = 1000, height = 1000)\n",
    "\n",
    "a <- matrix(c(17, 18, 20, 22, 23,\n",
    "                20, 20, 19, 21, 20,\n",
    "                23, 22, 20, 18, 17), nrow=3, byrow=T)\n",
    "  titles <- c(\"A\", \"B\", \"C\")\n",
    "  cols <- c(\"#173f5f\", \"#20639b\", \"#3caea3\", \"#f6d55c\", \"tomato2\")\n",
    "  \n",
    "  defaultmar <- par()$mar\n",
    "  layout(matrix(c(1,3,5,\n",
    "                  2,4,6), nrow=2, byrow=T), height=c(1,1))       \n",
    "  par(cex=2)\n",
    "  par(font=1)\n",
    "  par(las=1)\n",
    "  par(font.axis=1)\n",
    "  par(mgp=c(1,1,0))\n",
    "  \n",
    "  for (i in 1:nrow(a)) {\n",
    "    par(mar=c(0,0,2,0))\n",
    "    pie(a[i,], init=90, clockwise=T, col=cols, radius=0.8)\n",
    "    title(main=titles[i], line=0)\n",
    "    par(mar=defaultmar+c(-2,-1.5,-4,-0.5))\n",
    "    par(mgp=c(0,0.5,0))\n",
    "    barplot(a[i,], horiz=F, xlim=c(0,10), ylim=c(0,25), col=cols, border=1,\n",
    "            names.arg=1:5, space=0.8, axes=F)\n",
    "    par(mgp=c(0,1,0))\n",
    "  \n",
    "    \n",
    "    axis(2)\n",
    "  }\n",
    "\n",
    "dev.off()"
   ]
  },
  {
   "cell_type": "markdown",
   "metadata": {},
   "source": [
    "```{figure} pie_vs_bar.png\n",
    "---\n",
    "width: 100%\n",
    "alt: Three examples comparing pie charts and bar charts illustrating the same data.\n",
    "name: pie-vs-bar\n",
    "---\n",
    "Three examples comparing pie charts and bar charts illustrating the same data. In each case, the qualitative and quantitative features of the data are easier to interpret using the bar chart.[^attribution]\n",
    "```\n",
    "\n",
    "[^attribution]: {numref}`Figure {number} <pie-vs-bar>` was adapted from [an image created by Shutz](https://commons.wikimedia.org/wiki/File:Piecharts.svg) and is licensed under the [Creative Commons Attribution 1.0 Generic](https://creativecommons.org/licenses/by/1.0/deed.en) license."
   ]
  },
  {
   "cell_type": "markdown",
   "metadata": {},
   "source": [
    "While pie charts are still commonly used in media and in business, most visualization experts recommend against using pie charts in favor of other visualization tools like bar charts."
   ]
  },
  {
   "cell_type": "markdown",
   "metadata": {},
   "source": [
    "## Histograms\n",
    "We apporach graphs for quantitative data similarly, though with a few important distinctions. \n",
    "\n",
    "First, with quantitative data, it is often up to the statistician how to group or categorize the data. For example, if we are gathering data on eye color (qualitative data), we naturally have a category of blue eyes and a category of brown eyes; there is no opportunity to adjust the categories. But if we are gathering data on the heights of adult males (quantitative data), the statistician could partition the data so they get a group of individuals 50-59 inches tall, or they could partition the data so they get a group of individuals 50-54 inches tall and another group of individuals 55-59 inches tall. \n",
    "\n",
    "Second, we can measure how far apart quantitative data is. It doesn't make sense to ask how far apart blue eyes are from brown eyes. But it does make sense to ask how far apart 50 inches is from 59 inches. (They are 59 - 50 = 9 inches apart.)\n",
    "\n",
    "A common way to visualize quantitative data is to use a histogram. A **histogram** is similar to a bar chart, but it is better at displaying quantitative data. Unlike a bar chart, a histogram consists of contiguous (adjoining) boxes so there is no gap between the bars. This helps emphasize the \"distance\" between quantitative data. A histogram has both a horizontal axis and a vertical axis. The horizontal axis is labeled with what the data represents (for instance, distance from your home to school). The vertical axis is labeled either frequency or relative frequency (or percent frequency or probability). The histogram can suggest shape of the data and can suggest where the center of the data is and how spread out the data is."
   ]
  },
  {
   "cell_type": "markdown",
   "metadata": {},
   "source": [
    "***"
   ]
  },
  {
   "cell_type": "markdown",
   "metadata": {},
   "source": [
    "### Example 1.4.8\n",
    "\n",
    "An economist surveys gas stations in the Bay Area. {numref}`Figure {number} <gas-hist>` below summarizes the gas prices at the gas stations he surveyed. Use the histogram to answer the following questions.\n",
    "\n",
    "1. About how many gas stations had gas prices above \\$4.70?\n",
    "2. About what percentage of gas stations surveyed have gas prices between \\$4.40 and \\$4.60?"
   ]
  },
  {
   "cell_type": "code",
   "execution_count": 51,
   "metadata": {
    "tags": [
     "remove-cell"
    ]
   },
   "outputs": [
    {
     "data": {
      "text/html": [
       "<strong>png:</strong> 2"
      ],
      "text/latex": [
       "\\textbf{png:} 2"
      ],
      "text/markdown": [
       "**png:** 2"
      ],
      "text/plain": [
       "png \n",
       "  2 "
      ]
     },
     "metadata": {},
     "output_type": "display_data"
    }
   ],
   "source": [
    "png(\"gas_hist.png\", width = 1000, height = 700)\n",
    "\n",
    "x = runif(45, min = 4.30, max = 4.40)\n",
    "x = append(x, runif(60, min = 4.40, max = 4.50))\n",
    "x = append(x, runif(70, min = 4.50, max = 4.60))\n",
    "x = append(x, runif(40, min = 4.60, max = 4.70))\n",
    "x = append(x, runif(20, min = 4.70, max = 4.80))\n",
    "x = append(x, runif(15, min = 4.80, max = 4.90))\n",
    "x = append(x, runif(5, min = 4.90, max = 5.00))\n",
    "\n",
    "par(mgp = c(4, 1, 0), mar = c(5, 6, 5, 0))\n",
    "hist(x, ylim = c(0, 71), xaxt = \"n\", xlab = \"Gas Prices\", main = \"Histogram of Gas Prices in the Bay Area\", cex.lab = 2.5, cex.axis = 2, cex.main = 2.5, col = \"gray70\")\n",
    "for (j in 1:7) {\n",
    "    abline(h = j*10, col = \"gray50\")\n",
    "}\n",
    "hist(x, ylim = c(0, 71), xaxt = \"n\", xlab = \"Gas Prices\", main = \"Histogram of Gas Prices in the Bay Area\", cex.lab = 2.5, cex.axis = 2, cex.main = 2.5, col = \"gray70\", add = TRUE)\n",
    "axis(1, at = seq(from = 4.30, to = 5.00, by = 0.10), labels = c(\"4.30\", \"4.40\", \"4.50\", \"4.60\", \"4.70\", \"4.80\", \"4.90\", \"5.00\"), cex.axis = 2)\n",
    "\n",
    "dev.off()"
   ]
  },
  {
   "cell_type": "markdown",
   "metadata": {},
   "source": [
    "```{figure} gas_hist.png\n",
    "---\n",
    "width: 100%\n",
    "alt: Histogram of gas prices in the Bay Area. There are 45 gas stations with prices between 4.30 and 4.40, 60 with prices between 4.40 and 4.50, 70 with prices between 4.50 and 4.60, 40 with prices betwen 4.60 and 4.70, 20 with prices between 4.70 and 4.80, 15 with prices between 4.80 and 4.90, and 5 with prices between 4.90 and 5.00.\n",
    "name: gas-hist\n",
    "---\n",
    "A histogram of gas prices in the Bay Area. Note there is no gap in between the bars, and each bar represents a range of values instead of a single category or number.\n",
    "```"
   ]
  },
  {
   "cell_type": "markdown",
   "metadata": {},
   "source": [
    "#### Solution\n",
    "\n",
    "##### Part 1\n",
    "Looking at the histogram, we can see that there are 20 gas stations with prices between \\$4.70 and \\$4.80, there are 15 gas stations with prices between \\$4.80 and \\$4.90, and there are 5 gas stations prices between \\$4.90 and \\$5.00. So there are about 20 + 15 + 5 = 40 gas stations with prices above \\$4.70.\n",
    "\n",
    "##### Part 2\n",
    "To find the *percentage* of gas stations with prices between \\$4.40 and \\$4.60, we must first find the *fraction* of gas stations with prices between \\$4.40 and \\$4.60. \n",
    "\n",
    "We start by finding the *number* of gas stations with prices between \\$4.40 and \\$4.60: there are 60 gas stations with prices between \\$4.40 and \\$4.50 and 70 gas stations with prices between \\$4.50 and \\$4.60, meaning there are a total of \n",
    "\n",
    "$$60 + 70 = 130$$\n",
    "\n",
    "gas stations with prices between \\$4.40 and \\$4.60. \n",
    "\n",
    "To find the *fraction* of gast stations with prices between \\$4.40 and \\$4.60, we need to divide the number of gas stations with prices between \\$4.40 and \\$4.60 (which we just calculated is 130) by the total number of gas stations surveyed. We can calculate the total number of gas stations surveyed by adding up the number of gas stations in each range of prices on the histogram. There are:\n",
    "- 45 gas stations with prices between \\$4.30 and \\$4.40\n",
    "- 60 gas stations with prices between \\$4.40 and \\$4.50\n",
    "- 70 gas stations with prices between \\$4.50 and \\$4.60\n",
    "- 40 gas stations with prices between \\$4.60 and \\$4.70\n",
    "- 20 gas stations with prices between \\$4.70 and \\$4.80\n",
    "- 15 gas stations with prices between \\$4.80 and \\$4.90\n",
    "- 5 gas stations with prices between \\$4.90 and \\$5.00\n",
    "\n",
    "So there were\n",
    "\n",
    "$$45 + 60 + 70 + 40 + 20 + 15 + 5 = 255$$\n",
    "\n",
    "gas stations surveyed in total. \n",
    "\n",
    "Then the *fraction* of gas stations surveyed with prices between \\$4.40 and \\$4.60 is\n",
    "\n",
    "$$ 130/255. $$\n",
    "\n",
    "To find the *percentage* of gas stations with prices between \\$4.40 and \\$4.60, we multiply the fraction by 100%."
   ]
  },
  {
   "cell_type": "code",
   "execution_count": 52,
   "metadata": {},
   "outputs": [
    {
     "data": {
      "text/html": [
       "50.9803921568627"
      ],
      "text/latex": [
       "50.9803921568627"
      ],
      "text/markdown": [
       "50.9803921568627"
      ],
      "text/plain": [
       "[1] 50.98039"
      ]
     },
     "metadata": {},
     "output_type": "display_data"
    }
   ],
   "source": [
    "130/255 * 100"
   ]
  },
  {
   "cell_type": "markdown",
   "metadata": {},
   "source": [
    "So about 50.9804% of gas stations surveyed had prices between \\$4.40 and \\$4.60."
   ]
  },
  {
   "cell_type": "markdown",
   "metadata": {},
   "source": [
    "***"
   ]
  },
  {
   "cell_type": "markdown",
   "metadata": {},
   "source": [
    "### Example"
   ]
  },
  {
   "cell_type": "code",
   "execution_count": null,
   "metadata": {},
   "outputs": [],
   "source": [
    "## To Do: Video Example Interpret Histogram"
   ]
  },
  {
   "cell_type": "markdown",
   "metadata": {},
   "source": [
    "***"
   ]
  },
  {
   "cell_type": "markdown",
   "metadata": {},
   "source": [
    "We can use R to construct a histogram from a data set. To construct a histogram in R, use the <code>hist</code> function:\n",
    "\n",
    "```R\n",
    "hist(x)\n",
    "```\n",
    "\n",
    "Here, <code>x</code> is the list of data we want a histogram of."
   ]
  },
  {
   "cell_type": "markdown",
   "metadata": {},
   "source": [
    "***"
   ]
  },
  {
   "cell_type": "markdown",
   "metadata": {},
   "source": [
    "\n",
    "### Example 1.4.9\n",
    "The following data are the heights (in inches to the nearest half inch) of 100 male semiprofessional soccer players. The heights are continuous data, since height is measured. \n",
    "\n",
    "60, 60.5, 61, 61, 61.5, 63.5, 63.5, 63.5, 64, 64, 64, 64, 64, 64, 64, 64.5, 64.5, 64.5, 64.5, 64.5, 64.5, 64.5, 64.5, 66, 66, 66, 66, 66, 66, 66, 66, 66, 66, 66.5, 66.5, 66.5, 66.5, 66.5, 66.5, 66.5,    66.5, 66.5, 66.5, 66.5, 67, 67, 67, 67, 67, 67, 67, 67, 67, 67, 67, 67, 67.5, 67.5, 67.5, 67.5, 67.5, 67.5, 68, 68, 69, 69, 69, 69, 69, 69, 69, 69, 69, 69, 69.5, 69.5, 69.5, 69.5, 69.5, 70, 70, 70, 70, 70, 70, 70.5, 70.5, 70.5, 71, 71, 71, 72, 72, 72, 72.5, 72.5, 73, 73.5, 74\n",
    "\n",
    "Construct a histogram of the data. Where do the data seem to be concentrated?\n",
    "\n",
    "#### Solution"
   ]
  },
  {
   "cell_type": "code",
   "execution_count": 3,
   "metadata": {
    "tags": [
     "remove-output"
    ]
   },
   "outputs": [
    {
     "data": {
      "image/png": "[encoded data removed]",
      "text/plain": [
       "Plot with title “Histogram of data”"
      ]
     },
     "metadata": {
      "image/png": {
       "height": 420,
       "width": 420
      },
      "text/plain": {
       "height": 420,
       "width": 420
      }
     },
     "output_type": "display_data"
    }
   ],
   "source": [
    "data = c(60, 60.5, 61, 61, 61.5, 63.5, 63.5, 63.5, 64, 64, 64, 64, 64, 64, 64, 64.5, 64.5, 64.5, 64.5, 64.5, 64.5, 64.5, 64.5, 66, 66, 66, 66, 66, 66, 66, 66, 66, 66, 66.5, 66.5, 66.5, 66.5, 66.5, 66.5, 66.5, 66.5, 66.5, 66.5, 66.5, 67, 67, 67, 67, 67, 67, 67, 67, 67, 67, 67, 67, 67.5, 67.5, 67.5, 67.5, 67.5, 67.5, 68, 68, 69, 69, 69, 69, 69, 69, 69, 69, 69, 69, 69.5, 69.5, 69.5, 69.5, 69.5, 70, 70, 70, 70, 70, 70, 70.5, 70.5, 70.5, 71, 71, 71, 72, 72, 72, 72.5, 72.5, 73, 73.5, 74)\n",
    "\n",
    "hist(data)"
   ]
  },
  {
   "cell_type": "code",
   "execution_count": 10,
   "metadata": {
    "tags": [
     "remove-cell"
    ]
   },
   "outputs": [
    {
     "data": {
      "text/html": [
       "<strong>png:</strong> 2"
      ],
      "text/latex": [
       "\\textbf{png:} 2"
      ],
      "text/markdown": [
       "**png:** 2"
      ],
      "text/plain": [
       "png \n",
       "  2 "
      ]
     },
     "metadata": {},
     "output_type": "display_data"
    }
   ],
   "source": [
    "png(\"soccer_hist.png\", width = 1000, height = 500)\n",
    "\n",
    "par(mgp = c(4, 1, 0), mar = c(5, 6, 5, 0))\n",
    "data = c(60, 60.5, 61, 61, 61.5, 63.5, 63.5, 63.5, 64, 64, 64, 64, 64, 64, 64, 64.5, 64.5, 64.5, 64.5, 64.5, 64.5, 64.5, 64.5, 66, 66, 66, 66, 66, 66, 66, 66, 66, 66, 66.5, 66.5, 66.5, 66.5, 66.5, 66.5, 66.5, 66.5, 66.5, 66.5, 66.5, 67, 67, 67, 67, 67, 67, 67, 67, 67, 67, 67, 67, 67.5, 67.5, 67.5, 67.5, 67.5, 67.5, 68, 68, 69, 69, 69, 69, 69, 69, 69, 69, 69, 69, 69.5, 69.5, 69.5, 69.5, 69.5, 70, 70, 70, 70, 70, 70, 70.5, 70.5, 70.5, 71, 71, 71, 72, 72, 72, 72.5, 72.5, 73, 73.5, 74)\n",
    "\n",
    "hist(data, cex.lab = 2.5, cex.axis = 2, cex.main = 2.5, col = \"gray70\")\n",
    "\n",
    "dev.off()"
   ]
  },
  {
   "cell_type": "markdown",
   "metadata": {},
   "source": [
    "```{figure} soccer_hist.png\n",
    "---\n",
    "width: 100%\n",
    "alt: Histogram of the heights of soccer players.\n",
    "name: soccer-hist\n",
    "---\n",
    "A histogram of the heights of 100 semiprofessional soccer players.\n",
    "```"
   ]
  },
  {
   "cell_type": "markdown",
   "metadata": {},
   "source": [
    "From the histogram, we can see that most of the players' heights are between 64 inches and 70 inches.\n",
    "\n",
    "```{note}\n",
    "For histograms in R, each bar represents the frequency of values that lie between the endpoints to left and right of the bar, but *not including* the endpoint to the left and *including* the value to the right. For instance, the bar between 70 and 72 in this example counts only the data 70.5, 70.5, 70.5, 71, 71, 71, 72, 72, 72. So it includes the data points of value 72 (the right endpoint) but not the data points of value 70 (the left endpoint). The one exception to this rule is the bar on the far left, which includes values at both endpoints.\n",
    "```"
   ]
  },
  {
   "cell_type": "markdown",
   "metadata": {},
   "source": [
    "***"
   ]
  },
  {
   "cell_type": "markdown",
   "metadata": {},
   "source": [
    "### Example 1.4.10\n",
    "Create a histogram for the following data: the number of books bought by 50 part-time college students at ABC College. The number of books is discrete data, since books are counted. \n",
    "\n",
    "0, 0, 1, 1, 1, 1, 1, 1, 1, 1, 1, 2, 2, 2, 2, 2, 2, 2, 2, 2, 2, 3, 3, 3, 3, 3, 3, 3, 3, 3, 3, 3, 3, 3, 3, 3, 3, 4, 4, 4, 4, 4, 4, 5, 5, 5, 5, 5, 6, 6\n",
    "\n",
    "#### Solution"
   ]
  },
  {
   "cell_type": "code",
   "execution_count": 7,
   "metadata": {
    "tags": [
     "remove-output"
    ]
   },
   "outputs": [
    {
     "data": {
      "image/png": "[encoded data removed]",
      "text/plain": [
       "Plot with title “Histogram of books”"
      ]
     },
     "metadata": {
      "image/png": {
       "height": 420,
       "width": 420
      },
      "text/plain": {
       "height": 420,
       "width": 420
      }
     },
     "output_type": "display_data"
    }
   ],
   "source": [
    "books = c(0, 0, 1, 1, 1, 1, 1, 1, 1, 1, 1, 2, 2, 2, 2, 2, 2, 2, 2, 2, 2, 3, 3, 3, 3, 3, 3, 3, 3, 3, 3, 3, 3, 3, 3, 3, 3, 4, 4, 4, 4, 4, 4, 5, 5, 5, 5, 5, 6, 6)\n",
    "\n",
    "hist(books)"
   ]
  },
  {
   "cell_type": "code",
   "execution_count": 9,
   "metadata": {
    "tags": [
     "remove-cell"
    ]
   },
   "outputs": [
    {
     "data": {
      "text/html": [
       "<strong>png:</strong> 2"
      ],
      "text/latex": [
       "\\textbf{png:} 2"
      ],
      "text/markdown": [
       "**png:** 2"
      ],
      "text/plain": [
       "png \n",
       "  2 "
      ]
     },
     "metadata": {},
     "output_type": "display_data"
    }
   ],
   "source": [
    "png(\"books_hist.png\", width = 1000, height = 500)\n",
    "\n",
    "par(mgp = c(4, 1, 0), mar = c(5, 6, 5, 0))\n",
    "books = c(0, 0, 1, 1, 1, 1, 1, 1, 1, 1, 1, 2, 2, 2, 2, 2, 2, 2, 2, 2, 2, 3, 3, 3, 3, 3, 3, 3, 3, 3, 3, 3, 3, 3, 3, 3, 3, 4, 4, 4, 4, 4, 4, 5, 5, 5, 5, 5, 6, 6)\n",
    "\n",
    "hist(books, cex.lab = 2.5, cex.axis = 2, cex.main = 2.5, col = \"gray70\")\n",
    "\n",
    "dev.off()"
   ]
  },
  {
   "cell_type": "markdown",
   "metadata": {},
   "source": [
    "```{figure} books_hist.png\n",
    "---\n",
    "width: 100%\n",
    "alt: Histogram of the number of books bought by part-time students at ABC college.\n",
    "name: books_hist\n",
    "---\n",
    "A histogram of number of books bought by 50 part-time students at ABC college.\n",
    "```"
   ]
  },
  {
   "cell_type": "markdown",
   "metadata": {},
   "source": [
    "````{note}\n",
    "A histogram may not be the best way to visualize the data in this example. We can see that the bar ranging from 1 to 2 has a height of 10, meaning there are 10 students at ABC college that purchased between 1 and 2 books. But what does that mean? A student can purchase 1 book, or they can purchase 2 books, but they can't purchase 2.7 books. Because of this, a bar chart, where the bars are labeled \"0 books\", \"1 book\", \"2 books\", etc., may be a better way to visualize the data.\n",
    "\n",
    "```{figure} books_bar.png\n",
    "---\n",
    "width: 100%\n",
    "alt: Bar chart of the number of books bought by part-time students at ABC college.\n",
    "name: books_bar\n",
    "---\n",
    "A bar chart of the number of books bought by part-time students at ABC college. Note that *in this case*, a bar chart communicates the data better than a histogram. \n",
    "```\n",
    "\n",
    "This does *not* mean that a bar chart is always better than a histogram. In some situations (like this one), a bar chart may do the best job at communicating the data. In other situations (like for continuous data), a histogram may do the best job at communicating the data. A wise statistician will choose the best tool for the job.\n",
    "\n",
    "````"
   ]
  },
  {
   "cell_type": "code",
   "execution_count": 23,
   "metadata": {
    "tags": [
     "remove-cell"
    ]
   },
   "outputs": [
    {
     "data": {
      "text/html": [
       "<strong>png:</strong> 2"
      ],
      "text/latex": [
       "\\textbf{png:} 2"
      ],
      "text/markdown": [
       "**png:** 2"
      ],
      "text/plain": [
       "png \n",
       "  2 "
      ]
     },
     "metadata": {},
     "output_type": "display_data"
    }
   ],
   "source": [
    "png(\"books_bar.png\", width = 1000, height = 500)\n",
    "\n",
    "par(mgp = c(4, 1, 0), mar = c(5, 6, 5, 0))\n",
    "books = c(0, 0, 1, 1, 1, 1, 1, 1, 1, 1, 1, 2, 2, 2, 2, 2, 2, 2, 2, 2, 2, 3, 3, 3, 3, 3, 3, 3, 3, 3, 3, 3, 3, 3, 3, 3, 3, 4, 4, 4, 4, 4, 4, 5, 5, 5, 5, 5, 6, 6)\n",
    "\n",
    "freq = c()\n",
    "lab = c()\n",
    "for (j in 0:6) {\n",
    "    freq = append(freq, sum(books == j))\n",
    "    lab = append(lab, paste0(j, \" books\"))\n",
    "}\n",
    "\n",
    "barplot(height = freq, names = lab, \n",
    "        main = \"Bar chart of books\",\n",
    "        ylab = \"Frequency\",\n",
    "        xlab = \"Number of Books\",\n",
    "        cex.lab = 2.5, cex.axis = 2, cex.names = 2, cex.main = 2.5)\n",
    "\n",
    "dev.off()"
   ]
  },
  {
   "cell_type": "markdown",
   "metadata": {},
   "source": [
    "***"
   ]
  },
  {
   "cell_type": "markdown",
   "metadata": {},
   "source": [
    "### Example 1.4.11"
   ]
  },
  {
   "cell_type": "code",
   "execution_count": 1,
   "metadata": {},
   "outputs": [],
   "source": [
    "## To Do: Video Example Create Histogram"
   ]
  }
 ],
 "metadata": {
  "kernelspec": {
   "display_name": "R",
   "language": "R",
   "name": "ir"
  },
  "language_info": {
   "codemirror_mode": "r",
   "file_extension": ".r",
   "mimetype": "text/x-r-source",
   "name": "R",
   "pygments_lexer": "r",
   "version": "3.6.3"
  }
 },
 "nbformat": 4,
 "nbformat_minor": 4
}
