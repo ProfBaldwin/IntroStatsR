{
 "cells": [
  {
   "cell_type": "markdown",
   "metadata": {},
   "source": [
    "# Addition Rules and Mutually Exclusive Events"
   ]
  },
  {
   "cell_type": "markdown",
   "metadata": {},
   "source": [
    "## Objectives ##\n",
    "- Apply probability and counting rules (including addition and multiplication rules) as pertaining to both continuous random variables and discrete random variables.\n",
    "- Analyze an application in the disciplines business, social sciences, psychology, life sciences, health science, and education, and utilize the correct statistical processes to arrive at a solution."
   ]
  },
  {
   "cell_type": "markdown",
   "metadata": {},
   "source": [
    "## The Addition Rule ##\n",
    "Given two events $A$ and $B$, we would like to know how to calculate $P(A\\text{ OR }B)$, the probability that the outcome is in event $A$ or in event $B$. We know the probability that the outcome is in event $A$ is $P(A)$, and the probability that the outcome is in event $B$ is $P(B)$, so it may be reasonable to conclude that we can calculate $P(A\\text{ OR }B)$ by simply adding $P(A)$ and $P(B)$. But this isn't quite right.\n",
    "\n",
    "```{figure} vennAND.svg\n",
    "---\n",
    "width: 40%\n",
    "alt: A venn diagram of two events A and B. The intersection of the two events is shaded representing the composite event (A AND B).\n",
    "name: vennAND2\n",
    "---\n",
    "A venn diagram of two events A and B. The shaded portion of the diagram represents event $A \\text{ AND } B$. Outcomes that are both in $A$ and in $B$ would be in this intersection.\n",
    "```\n",
    "\n",
    "Observe from the Venn Diagram that generally event $A$ and event $B$ share some outcomes. The set of shared outcomes is event $A\\text{ AND }B$. We count the set of shared outcomes $A\\text{ AND }B$ once when we calculate $P(A)$, then *again* when we calculate $P(B)$, meaning we count the probability of the outcomes in $A\\text{ AND }B$ *twice*. We only want to count each outcome *once*. To correct this, we need to subtract the excess: since we counted $P(A\\text{ AND }B)$ twice instead of just once, we need to subtract $P(A\\text{ AND }B)$ once to remove the excess. This gives us our **addition rule**:\n",
    "\n",
    "$$ P(A\\text{ OR } B) = P(A) + P(B) - P(A\\text{ AND }B). $$\n",
    "\n",
    "This equation can be expressed visually as\n",
    "\n",
    "````{div} full-width\n",
    "```{figure} venn2.svg\n",
    "---\n",
    "width: 100%\n",
    "alt: The addition rule is represented as an equation written using Venn diagrams.\n",
    "name: venn_add_rule\n",
    "---\n",
    "A diagram of the addition rule $P(A \\text{ OR } B) = P(A) + P(B) - P(A \\text{ AND } B)$. Notice event $A \\text{ AND } B$, represented by the intersection of the two circles, is counted once when we calculate $P(A)$ and again when we calculate $P(B)$. Because we double count this event, we have to subtract $P(A \\text{ AND } B)$ once to correct for the overcounting.\n",
    "```\n",
    "````"
   ]
  },
  {
   "cell_type": "markdown",
   "metadata": {},
   "source": [
    "***"
   ]
  },
  {
   "cell_type": "markdown",
   "metadata": {},
   "source": [
    "\n",
    "### Example\n",
    "Carlos plays college soccer. He makes a goal $65\\%$ of the time he shoots. Carlos is going to attempt two goals in a row in the next game, and he tends to shoot in streaks. The probability that he makes the second goal *given* that he made the first goal is $0.90$.\n",
    "\n",
    "1. What is the probability that Carlos makes both goals?\n",
    "2. What is the probability that carlos makes the first goal or the second goal?\n",
    "\n",
    "#### Solution\n",
    "Let's first translate this problem into math. Let $G_1 = $ the event Carlos is successful on his first goal attempt, and let $G_2 = $ the event Carlos is successful on his second goal attempt. Because Carlos makes a goal $65\\%$ of the time he shoots,\n",
    "\n",
    "$$ P(G_1) = 0.65, P(G_2) = 0.65.$$\n",
    "\n",
    "We are told that the probability that Carlos makes the second goal *given* that he made his first goal is $0.90$. Mathematically, that means\n",
    "\n",
    "$$ P(G_2|G_1) = 0.90. $$\n",
    "\n",
    "##### Part 1\n",
    "We want to find the probability that Carlos makes both goals; that is, we want to find\n",
    "\n",
    "$$ P(G_1 \\text{ AND } G_2). $$\n",
    "\n",
    "Since we know $P(G_2|G_1)$ (and we don't know $P(G_1|G_2)$), we use the multiplication rule\n",
    "\n",
    "$$P(G_1 \\text{ AND } G_2) = P(G_1) \\cdot P(G_2|G_1) = 0.65 \\cdot 0.90 = 0.585.$$\n",
    "\n",
    "We calculate that Carlos has a $58.5\\%$ chance of making both his first goal attempt and his second goal attempt.\n",
    "\n",
    "##### Part 2\n",
    "We want to find $P(G_1 \\text{ OR } G_2)$. Using the addition rule and the value of $P(G_1 \\text{ AND } G_2)$ that we found in Part 1, we calculate\n",
    "\n",
    "$$ P(G_1 \\text{ OR } G_2) = P(G_1) + P(G_2) - P(G_1 \\text{ AND } G_2) = 0.65 + 0.65 - 0.585 = 0.715.$$\n",
    "\n",
    "So there is a $71.5\\%$ chance that Carlos makes his first goal or his second goal."
   ]
  },
  {
   "cell_type": "markdown",
   "metadata": {},
   "source": [
    "***"
   ]
  },
  {
   "cell_type": "markdown",
   "metadata": {},
   "source": [
    "### Example"
   ]
  },
  {
   "cell_type": "code",
   "execution_count": null,
   "metadata": {},
   "outputs": [],
   "source": [
    "## To Do: Addition Rule Example"
   ]
  },
  {
   "cell_type": "markdown",
   "metadata": {},
   "source": [
    "***"
   ]
  },
  {
   "cell_type": "markdown",
   "metadata": {},
   "source": [
    "## Mutually Exclusive Events ##\n",
    "$A$ and $B$ are **mutually exclusive** events if they cannot occur at the same time. This means that $A$ and $B$ do not share any outcomes. Thus, two events $A$ and $B$ are mutually exclusive if and only if $P(A \\text{ AND } B) = 0$.\n",
    "\n",
    "```{figure} vennExcl.svg\n",
    "---\n",
    "width: 40%\n",
    "alt: A venn diagram of two mutually exclusive events A and B. The circles representing the two events do not intersect.\n",
    "name: vennExcl\n",
    "---\n",
    "A venn diagram of two mutually exclusive events A and B. The circles representing the two events do not intersect, so $A$ and $B$ have no outcomes in common. This means $P(A \\text{ AND } B) = 0$ since it is impossible for events $A$ and $B$ to occur at the same time.\n",
    "```\n",
    "\n",
    "For example, imagine you roll a die. Let event $E$ be rolling an even number, and let event $D$ be rolling an odd number. Notice it is impossible for event $E$ and event $D$ to both occur at the same time since there is no outcome where the die comes up both an even number and an odd number at the same time. This means $P(E \\text{ AND } D) = 0$, so events $E$ and $D$ are mutually exclusive.\n",
    "\n",
    "As another example, suppose the sample space of some experiment is $S = \\{1, 2, 3, 4, 5, 6, 7, 8, 9, 10\\}$ where each outcome is equally likely. Let $I = \\{1, 2, 3, 4, 5\\}$, $J = \\{4, 5, 6, 7, 8\\}$, and $K = \\{7, 9\\}$. \n",
    "\n",
    "- $I \\text{ AND } J = \\{4, 5\\}$, so  $P(I\\text{ AND }J) = \\frac{2}{10}$. Since $P(I \\text{ AND } J) \\neq 0$, events $I$ and $J$ are *not* mutually exclusive. \n",
    "- $J \\text{ AND } K = \\{7\\}$, so $P(J \\text{ AND } K) = \\frac{1}{10}$. Since $P(J \\text{ AND } K) \\neq 0$, events $J$ and $K$ are *not* mutually exclusive.\n",
    "- $I \\text{ AND } K = \\{\\}$, meaning events $I$ and $K$ have no outcomes in common and $I \\text{ AND } K$ is empty. So $P(I\\text{ AND }K) = \\frac{0}{10} = 0$. Therefore, events $I$ and $K$ *are* mutually exclusive.\n",
    "\n",
    "If two events $A$ and $B$ are mutually exclusive, then because $P(A \\text{ AND } B) = 0$, the addition rule $P(A \\text{ OR } B) = P(A) + P(B) - P(A \\text{ AND } B)$ simplifies to\n",
    "\n",
    "$$ P(A\\text{ OR } B) = P(A) + P(B). $$\n",
    "\n",
    "Note that this simplified addition rule works *only* when $A$ and $B$ are mutually exclusive.\n",
    "\n",
    "If it is not known whether two events $A$ and $B$ are mutually exclusive, assume they are not until you can show otherwise."
   ]
  },
  {
   "cell_type": "markdown",
   "metadata": {},
   "source": [
    "***"
   ]
  },
  {
   "cell_type": "markdown",
   "metadata": {},
   "source": [
    "### Example\n",
    "\n",
    "Keyarah draws one card from a standard deck of $52$ cards. (See {numref}`Figure {number} <playingcards>`.) Let $♠$ be event where the card is a spade, and let $♣$ be the event where the card is a club.\n",
    "\n",
    "1. What is the probability that Keyarah draws a spade? What is the probability that Keyarah draws a club?\n",
    "2. Given that Keyarah draws a spade, what is the possibility that the card is also a club?\n",
    "1. What is the probability that the card Keyarah draws is a spade and a club?\n",
    "4. Are $♠$ and $♣$ mutually exclusive?\n",
    "5. What is the probability that the card Keyarah draws is a spade or a club?\n",
    "\n",
    "#### Solution\n",
    "##### Part 1\n",
    "The outcomes of this experiment are all equally likely since each card in the deck has the same chance of being drawn. Since there are $13$ spades in a deck and $52$ cards total,\n",
    "\n",
    "$$ P(♠) = \\frac{n(♠)}{n(S)} = \\frac{13}{52} = 0.25. $$\n",
    "\n",
    "There is a $25\\%$ chance that Keyarah draws a spade.\n",
    "\n",
    "Similarly, there are $13$ clubs in a deck, so\n",
    "\n",
    "$$ P(♣) = \\frac{n(♣)}{n(S)} = \\frac{13}{52} = 0.25. $$\n",
    "\n",
    "There is a $25\\%$ chance that Keyarah draws a club.\n",
    "\n",
    "##### Part 2\n",
    "Since the outcomes are all equally likely, the conditional probability can be found using the formula\n",
    "\n",
    "$$ P(♣|♠) = \\frac{n(♣ \\text{ AND } ♠)}{n(♠)}. $$\n",
    "\n",
    "We know there are $13$ spades in the deck, so $n(♠) = 13$. But there aren't any cards that are both a club and a spade, so $n(♣ \\text{ AND } ♠) = 0$. Thus\n",
    "\n",
    "$$ P(♣|♠) = \\frac{n(♣ \\text{ AND } ♠)}{n(♠)} = \\frac{0}{13} = 0. $$\n",
    "\n",
    "##### Part 3\n",
    "Since the outcomes are all equally likely, we can calculate \n",
    "\n",
    "$$P(♠ \\text{ AND } ♣) = \\frac{n(♠ \\text{ AND } ♣)}{n(S)} = \\frac{0}{52} = 0. $$\n",
    "\n",
    "Alternatively, we could use our results from Part 1 and Part 2 to calculate this quantity using the multiplication rule:\n",
    "\n",
    "$$P(♠ \\text{ AND } ♣) = P(♠) \\cdot P(♣|♠) = 0.25 \\cdot 0 = 0. $$\n",
    "\n",
    "Both methods are valid in this case, and both give us the same result: there is a $0\\%$ chance that Keyarah draws a card that is both a spade and a club.\n",
    "\n",
    "##### Part 4\n",
    "Since $P(♠ \\text{ AND } ♣) = 0$, events $♠$ and $♣$ are mutually exclusive.\n",
    "\n",
    "##### Part 5\n",
    "Because $♠$ and $♣$ are mutually exclusive, we can use the simplified addition rule:\n",
    "\n",
    "$$ P(♠ \\text{ OR } ♣) = P(♠) + P(♣) = 0.25 + 0.25 = 0.5. $$\n",
    "\n",
    "There is a $50\\%$ chance that Keyarah draws a spade or a club."
   ]
  },
  {
   "cell_type": "markdown",
   "metadata": {},
   "source": [
    "***"
   ]
  },
  {
   "cell_type": "markdown",
   "metadata": {},
   "source": [
    "\n",
    "### Example\n",
    "Studies show that about one woman in seven (approximately $14.3\\%$) who live to be $90$ will develop breast cancer. Suppose that of those women who develop breast cancer, a test is negative $2\\%$ of the time; that is, the test gives a false negative result. Also suppose that in the general population of women, the test for breast cancer is negative about $85\\%$ of the time. Let $B =$ woman develops breast cancer and let $N =$ tests negative. Suppose one woman is selected at random.\n",
    "1. What is the probability that the woman develops breast cancer? What is the probability that woman tests negative?\n",
    "2. Given that the woman has breast cancer, what is the probability that she tests negative?\n",
    "3. What is the probability that the woman has breast cancer *and* tests negative?\n",
    "4. Are $B$ and $N$ mutually exclusive?\n",
    "5. What is the probability that the woman has breast cancer or tests negative?\n",
    "\n",
    "#### Solution\n",
    "##### Part 1\n",
    "The probability that the randomly chosen woman develops breast cancer is $P(B) = 0.143$. The probability that the woman tests negative for breast cancer is $P(N) = 0.85$.\n",
    "\n",
    "##### Part 2\n",
    "Given that the woman has breast cancer, the probability that she tests negative is $P(N|B) = 0.02$.\n",
    "\n",
    "##### Part 3\n",
    "To find the probability that the woman has breast cancer *and* tests negative, we use the multiplication rule:\n",
    "\n",
    "$$ P(B\\text{ AND }N) = P(B) \\cdot P(N|B) = 0.143 \\cdot 0.02 = 0.0029. $$\n",
    "\n",
    "There is a $0.29\\%$ chance that the woman has breast cancer and tests negative.\n",
    "\n",
    "##### Part 4 #####\n",
    "Events $B$ and $N$ are *not* mutually exclusive since $P(B\\text{ AND }N) = 0.0029 \\neq 0$.\n",
    "\n",
    "##### Part 5 #####\n",
    "Since $B$ and $N$ are not mutually exclusive, we need to use the more general addition rule:\n",
    "\n",
    "$$ P(B\\text{ OR }N) = P(B) + P(N) - P(B\\text{ AND } N) = 0.143 + 0.85 - 0.0029 = 0.9901.$$"
   ]
  },
  {
   "cell_type": "markdown",
   "metadata": {},
   "source": [
    "***"
   ]
  },
  {
   "cell_type": "markdown",
   "metadata": {},
   "source": [
    "\n",
    "### Example 3.3.3 ###\n",
    "An urn has 5 red marbles, 3 blue marbles, and 6 green marbles, and 6 yellow marbles. Seamus pulls one marble at random out of the urn. What is the probability that the marble is red or blue?\n",
    "\n",
    "#### Solution ####\n",
    "Let $R$ = the event of drawing a red marble and $B$ = the event of drawing a blue marble. First, note that $R$ and $B$ are mutually exclusive: the marble Seamus pulls out can't be both red and blue at the same time, so $P(R\\text{ AND } B) = 0$. Thus,\n",
    "\n",
    "$$P(R\\text{ OR } B) = P(R) + P(B) = \\frac{5}{20} + \\frac{3}{20} = \\frac{8}{20} = 0.4. $$"
   ]
  },
  {
   "cell_type": "markdown",
   "metadata": {},
   "source": [
    "***"
   ]
  },
  {
   "cell_type": "markdown",
   "metadata": {},
   "source": [
    "### Example"
   ]
  },
  {
   "cell_type": "code",
   "execution_count": null,
   "metadata": {},
   "outputs": [],
   "source": [
    "## To Do: Addition Rule Mutually Exclusive"
   ]
  },
  {
   "cell_type": "markdown",
   "metadata": {},
   "source": [
    "***"
   ]
  },
  {
   "cell_type": "markdown",
   "metadata": {},
   "source": [
    "## Complementary Events\n",
    "The complement of an event $A$ is the event with all the outcomes not in $A$. The complement of $A$ is often written $A^c$.\n",
    "\n",
    "```{figure} vennComp.svg\n",
    "---\n",
    "width: 60%\n",
    "alt: Two diagrams are shown. Both diagrams consist of a circle inside of a larger square. The circle in both diagrams is labeled $A$, and the upper left-hand corner of the square in both diagrams is labeled $A^c$. The circle is shaded in the diagram on the left. The region inside the square but outside the circle is shaded in the diagram on the right.\n",
    "name: vennComp\n",
    "---\n",
    "The shaded portion in the diagram on the left represents event $A$. The shaded portion in the diagram on the right represents event $A^c$. Notice that $A^c$ consists of the entire sample space that is not in $A$, so any outcome not in $A$ is in $A^c$ (and vice versa). Together, $A$ and $A^c$ fill the sample space.\n",
    "```\n",
    "\n",
    "For example, let the sample space of an experiment be $S = \\{1, 2, 3, 4, 5, 6, 7\\}$. Let $E = \\{2, 5, 6\\}$. Then the complement of $E$ has every outcome not in $E$:\n",
    "\n",
    "$$ E^c = \\{1, 3, 4, 7\\}. $$\n",
    "\n",
    "For two complementary events $A$ and $A^c$:\n",
    "\n",
    "- $A$ and $A^c$ are mutually exclusive.\n",
    "- Every possible outcome is in either $A$ or in $A^c$.\n",
    "\n",
    "Because every possible outcome is either in $A$ or $A^c$, there is a $100\\%$ chance that either $A$ is true or $A^c$ is true. That is,\n",
    "\n",
    "$$ P(A \\text{ OR } A^c) = P(A) + P(A^c) = 1. $$\n",
    "\n",
    "The observation is useful for calculating probabilities of complementary events.\n",
    "\n",
    "For example, suppose you play a game where it is only possible to win or lose (so it is not possible to tie). Let $W$ be the event where you win, and let $L$ be the event where you lose. Since in every outcome where you do not win the game, you will lose the game, and since you cannot win and lose at the same time, events $W$ and $L$ are complementary. (This means $W^c = L$ and $L^c = W$.) So $P(W) + P(L) = 1$.\n",
    "\n",
    "Now imagine there is a $32\\%$ chance you lose the game, so $P(L) = 0.32$. Since $W$ is the complement of $L$, we can use the probability that you lose to find the probability that you win. By rearranging the equation $P(W) + P(L) = 1$, we get $P(W) = 1 - P(L)$. Using this formula, we calculate\n",
    "\n",
    "$$ P(W) = 1 - P(L) = 1 - 0.32 = 0.68. $$\n",
    "\n",
    "So if there is a $32\\%$ chance you lose the game, then there is a $68\\%$ chance you win the game.\n",
    "\n"
   ]
  },
  {
   "cell_type": "markdown",
   "metadata": {},
   "source": [
    "***"
   ]
  },
  {
   "cell_type": "markdown",
   "metadata": {},
   "source": [
    "### Example\n",
    "\n",
    "Duy rolls a six-sided die. Let $N$ be the event where Duy "
   ]
  }
 ],
 "metadata": {
  "kernelspec": {
   "display_name": "R",
   "language": "R",
   "name": "ir"
  },
  "language_info": {
   "codemirror_mode": "r",
   "file_extension": ".r",
   "mimetype": "text/x-r-source",
   "name": "R",
   "pygments_lexer": "r",
   "version": "3.6.3"
  }
 },
 "nbformat": 4,
 "nbformat_minor": 4
}
